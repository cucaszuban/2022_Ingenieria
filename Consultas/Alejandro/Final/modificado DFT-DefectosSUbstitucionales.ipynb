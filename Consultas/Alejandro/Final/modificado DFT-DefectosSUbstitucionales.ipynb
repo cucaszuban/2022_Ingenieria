{
 "cells": [
  {
   "cell_type": "code",
   "execution_count": 1,
   "id": "1defac4a-69d2-418b-b959-74f9f10a7094",
   "metadata": {
    "executionInfo": {
     "elapsed": 32,
     "status": "ok",
     "timestamp": 1656899266650,
     "user": {
      "displayName": "Alejandro Gabriel Szuban",
      "userId": "14370620094475548673"
     },
     "user_tz": 180
    },
    "id": "1defac4a-69d2-418b-b959-74f9f10a7094"
   },
   "outputs": [],
   "source": [
    "import sys\n",
    "import os"
   ]
  },
  {
   "cell_type": "code",
   "execution_count": 2,
   "id": "63184aa4-3ca5-4c0e-8c31-691a0f86e28e",
   "metadata": {
    "executionInfo": {
     "elapsed": 94265,
     "status": "ok",
     "timestamp": 1656899360889,
     "user": {
      "displayName": "Alejandro Gabriel Szuban",
      "userId": "14370620094475548673"
     },
     "user_tz": 180
    },
    "id": "63184aa4-3ca5-4c0e-8c31-691a0f86e28e"
   },
   "outputs": [],
   "source": [
    "if 'google.colab' in sys.modules:\n",
    "    os.system('apt install python3-mpi4py cython3 libxc-dev gpaw-data')\n",
    "    os.system('pip install --upgrade gpaw pymatgen')"
   ]
  },
  {
   "cell_type": "code",
   "execution_count": 3,
   "id": "39afd1e3-c7ef-4356-95b8-78e7d2b4f5b4",
   "metadata": {
    "executionInfo": {
     "elapsed": 1101,
     "status": "ok",
     "timestamp": 1656899361923,
     "user": {
      "displayName": "Alejandro Gabriel Szuban",
      "userId": "14370620094475548673"
     },
     "user_tz": 180
    },
    "id": "99f9e9bf-601d-4e97-a870-e9bdc564d901"
   },
   "outputs": [],
   "source": [
    "from ase.build import bulk\n",
    "from ase.atom import Atom\n",
    "from ase.atoms import Atoms\n",
    "from gpaw import GPAW, PW\n",
    "from ase.visualize.plot import plot_atoms\n",
    "from ase.visualize import view\n",
    "import numpy as np\n",
    "from tqdm.auto import tqdm\n",
    "from ase.eos import EquationOfState\n",
    "import matplotlib.pyplot as plt\n",
    "plt.style.use('default')\n",
    "plt.rc('font', size=20)\n",
    "plt.rc('figure', figsize=(18,6))"
   ]
  },
  {
   "cell_type": "markdown",
   "id": "ed9925a2-f4ec-4c2c-a51a-382076ddda42",
   "metadata": {},
   "source": [
    "otras funciones de conveniencia:"
   ]
  },
  {
   "cell_type": "code",
   "execution_count": 4,
   "id": "10a144e6-e1e0-4a96-ad35-ba2796b0f5e5",
   "metadata": {},
   "outputs": [],
   "source": [
    "def econvergence(E: list[float]):\n",
    "    return np.abs((E[:-1] - E[-1])/E[-1])\n",
    "\n",
    "def load_calc(filename, **kwargs):\n",
    "    if os.path.exists(filename):\n",
    "        calc = GPAW(filename)\n",
    "    else:\n",
    "        calc = GPAW(**kwargs)\n",
    "    return calc\n",
    "        "
   ]
  },
  {
   "cell_type": "markdown",
   "id": "eb755ae0-11dc-4a3c-87d7-736741675688",
   "metadata": {
    "id": "eb755ae0-11dc-4a3c-87d7-736741675688"
   },
   "source": [
    "# Generamos la estructura"
   ]
  },
  {
   "cell_type": "markdown",
   "id": "b5689fa1-6cae-41b4-8998-71f9f5cd4442",
   "metadata": {
    "id": "b5689fa1-6cae-41b4-8998-71f9f5cd4442"
   },
   "source": [
    "la función [ase.build.bulk](https://wiki.fysik.dtu.dk/ase/ase/build/build.html?highlight=build) genera estructuras bulk, los argumentos son la composición química, la estructura cristalina, el parámetro de red y si se quiere una celda convencional o primitiva. El Output es un [objeto atoms](https://wiki.fysik.dtu.dk/ase/ase/atoms.html#ase.Atoms), que permitirá luego manipular sus componentes. Se puede pensar el estos objetos como listas de [objetos Atom](https://wiki.fysik.dtu.dk/ase/ase/atom.html#ase.atom.Atom), de átomos individuales"
   ]
  },
  {
   "cell_type": "code",
   "execution_count": 5,
   "id": "cb475358-0c09-465a-b83a-15f90d357743",
   "metadata": {
    "executionInfo": {
     "elapsed": 89,
     "status": "ok",
     "timestamp": 1656899361924,
     "user": {
      "displayName": "Alejandro Gabriel Szuban",
      "userId": "14370620094475548673"
     },
     "user_tz": 180
    },
    "id": "cb475358-0c09-465a-b83a-15f90d357743"
   },
   "outputs": [],
   "source": [
    "SiDiamond = bulk('Si', 'diamond', a=4., cubic=True)"
   ]
  },
  {
   "cell_type": "code",
   "execution_count": 6,
   "id": "9ff68439-54c7-463f-96d4-5d8ab5638ecf",
   "metadata": {
    "colab": {
     "base_uri": "https://localhost:8080/"
    },
    "executionInfo": {
     "elapsed": 85,
     "status": "ok",
     "timestamp": 1656899361925,
     "user": {
      "displayName": "Alejandro Gabriel Szuban",
      "userId": "14370620094475548673"
     },
     "user_tz": 180
    },
    "id": "9ff68439-54c7-463f-96d4-5d8ab5638ecf",
    "outputId": "58f58e0b-7016-4b88-8280-5922c94376bb"
   },
   "outputs": [
    {
     "name": "stdout",
     "output_type": "stream",
     "text": [
      "Atom('Si', [0.0, 0.0, 0.0], index=0)\n",
      "Atom('Si', [1.0, 1.0, 1.0], index=1)\n",
      "Atom('Si', [0.0, 2.0, 2.0], index=2)\n",
      "Atom('Si', [1.0, 3.0, 3.0], index=3)\n",
      "Atom('Si', [2.0, 0.0, 2.0], index=4)\n",
      "Atom('Si', [3.0, 1.0, 3.0], index=5)\n",
      "Atom('Si', [2.0, 2.0, 0.0], index=6)\n",
      "Atom('Si', [3.0, 3.0, 1.0], index=7)\n"
     ]
    }
   ],
   "source": [
    "printatoms = [print(at) for at in SiDiamond]"
   ]
  },
  {
   "cell_type": "code",
   "execution_count": 7,
   "id": "0a02f22f-a67a-493c-b1c1-73a016f3921d",
   "metadata": {
    "colab": {
     "base_uri": "https://localhost:8080/"
    },
    "executionInfo": {
     "elapsed": 67,
     "status": "ok",
     "timestamp": 1656899361927,
     "user": {
      "displayName": "Alejandro Gabriel Szuban",
      "userId": "14370620094475548673"
     },
     "user_tz": 180
    },
    "id": "0a02f22f-a67a-493c-b1c1-73a016f3921d",
    "outputId": "59a14de4-efe4-460b-aa4c-9b7e89fb944f"
   },
   "outputs": [
    {
     "data": {
      "text/plain": [
       "Atom('Si', [0.0, 0.0, 0.0], index=0)"
      ]
     },
     "execution_count": 7,
     "metadata": {},
     "output_type": "execute_result"
    }
   ],
   "source": [
    "SiDiamond[0] # te da el simbolo y la posición  del primer atomo "
   ]
  },
  {
   "cell_type": "code",
   "execution_count": 8,
   "id": "l9FSA5VFiC4z",
   "metadata": {
    "colab": {
     "base_uri": "https://localhost:8080/"
    },
    "executionInfo": {
     "elapsed": 52,
     "status": "ok",
     "timestamp": 1656899361928,
     "user": {
      "displayName": "Alejandro Gabriel Szuban",
      "userId": "14370620094475548673"
     },
     "user_tz": 180
    },
    "id": "l9FSA5VFiC4z",
    "outputId": "b9383969-778a-4663-9df7-8f65e963ee8b"
   },
   "outputs": [
    {
     "data": {
      "text/plain": [
       "Atom('Si', [1.0, 1.0, 1.0], index=1)"
      ]
     },
     "execution_count": 8,
     "metadata": {},
     "output_type": "execute_result"
    }
   ],
   "source": [
    "SiDiamond[1]"
   ]
  },
  {
   "cell_type": "code",
   "execution_count": 9,
   "id": "7c62fa25-d225-49c8-adb3-e1df1f05cf35",
   "metadata": {
    "colab": {
     "base_uri": "https://localhost:8080/"
    },
    "executionInfo": {
     "elapsed": 45,
     "status": "ok",
     "timestamp": 1656899361929,
     "user": {
      "displayName": "Alejandro Gabriel Szuban",
      "userId": "14370620094475548673"
     },
     "user_tz": 180
    },
    "id": "7c62fa25-d225-49c8-adb3-e1df1f05cf35",
    "outputId": "07ebe694-0d86-4e80-c986-d4c0f6ab0686"
   },
   "outputs": [
    {
     "data": {
      "text/plain": [
       "array([0., 0., 0.])"
      ]
     },
     "execution_count": 9,
     "metadata": {},
     "output_type": "execute_result"
    }
   ],
   "source": [
    "SiDiamond[0].position"
   ]
  },
  {
   "cell_type": "code",
   "execution_count": 10,
   "id": "c6b1586f-b6be-43e9-9f12-efaf60c91c2f",
   "metadata": {
    "colab": {
     "base_uri": "https://localhost:8080/"
    },
    "executionInfo": {
     "elapsed": 38,
     "status": "ok",
     "timestamp": 1656899361930,
     "user": {
      "displayName": "Alejandro Gabriel Szuban",
      "userId": "14370620094475548673"
     },
     "user_tz": 180
    },
    "id": "c6b1586f-b6be-43e9-9f12-efaf60c91c2f",
    "outputId": "5acbf2e0-11ea-49ab-d146-09d89e098f02"
   },
   "outputs": [
    {
     "data": {
      "text/plain": [
       "Cell([4.0, 4.0, 4.0])"
      ]
     },
     "execution_count": 10,
     "metadata": {},
     "output_type": "execute_result"
    }
   ],
   "source": [
    "SiDiamond.cell"
   ]
  },
  {
   "cell_type": "code",
   "execution_count": 11,
   "id": "509dd962-7fd7-49de-8b6d-f8f0a533f457",
   "metadata": {
    "colab": {
     "base_uri": "https://localhost:8080/"
    },
    "executionInfo": {
     "elapsed": 34,
     "status": "ok",
     "timestamp": 1656899361931,
     "user": {
      "displayName": "Alejandro Gabriel Szuban",
      "userId": "14370620094475548673"
     },
     "user_tz": 180
    },
    "id": "509dd962-7fd7-49de-8b6d-f8f0a533f457",
    "outputId": "239c1e2f-05f8-419e-85cf-7c8dffdffd8d"
   },
   "outputs": [
    {
     "data": {
      "text/plain": [
       "array([[0., 0., 0.],\n",
       "       [1., 1., 1.],\n",
       "       [0., 2., 2.],\n",
       "       [1., 3., 3.],\n",
       "       [2., 0., 2.],\n",
       "       [3., 1., 3.],\n",
       "       [2., 2., 0.],\n",
       "       [3., 3., 1.]])"
      ]
     },
     "execution_count": 11,
     "metadata": {},
     "output_type": "execute_result"
    }
   ],
   "source": [
    "SiDiamond.positions"
   ]
  },
  {
   "cell_type": "markdown",
   "id": "dcde0b57-ab72-46cf-be73-d0b1c91caca1",
   "metadata": {
    "id": "dcde0b57-ab72-46cf-be73-d0b1c91caca1"
   },
   "source": [
    "Luego con la función plot_atoms podemos visualizarlos, pero la verdad es que no es muy buena, solo para visualizar la estructura rápidamente en el Jupyter Notebook"
   ]
  },
  {
   "cell_type": "code",
   "execution_count": 12,
   "id": "c55cf6f9-9cfd-4e89-b8d5-895b50fc5fec",
   "metadata": {
    "colab": {
     "base_uri": "https://localhost:8080/",
     "height": 400
    },
    "executionInfo": {
     "elapsed": 1136,
     "status": "ok",
     "timestamp": 1656899378399,
     "user": {
      "displayName": "Alejandro Gabriel Szuban",
      "userId": "14370620094475548673"
     },
     "user_tz": 180
    },
    "id": "c55cf6f9-9cfd-4e89-b8d5-895b50fc5fec",
    "outputId": "a2b24d32-b691-42f5-a654-87fa6c2f2d25"
   },
   "outputs": [
    {
     "data": {
      "text/plain": [
       "<AxesSubplot:>"
      ]
     },
     "execution_count": 12,
     "metadata": {},
     "output_type": "execute_result"
    },
    {
     "data": {
      "image/png": "[encoded data removed]",
      "text/plain": [
       "<Figure size 432x288 with 1 Axes>"
      ]
     },
     "metadata": {
      "needs_background": "light"
     },
     "output_type": "display_data"
    }
   ],
   "source": [
    "fig, ax = plt.subplots()\n",
    "plot_atoms(SiDiamond, rotation='10x, 10y', ax=ax)"
   ]
  },
  {
   "cell_type": "markdown",
   "id": "3dec82cb-aca8-4844-b835-e7f08298adcf",
   "metadata": {
    "id": "3dec82cb-aca8-4844-b835-e7f08298adcf"
   },
   "source": [
    "o bien, para poder rotarlo a mano (pero no se si anda en google colab)\n"
   ]
  },
  {
   "cell_type": "code",
   "execution_count": 13,
   "id": "bed7deb3-c3fe-4706-9c49-e902a1925d86",
   "metadata": {
    "executionInfo": {
     "elapsed": 343,
     "status": "ok",
     "timestamp": 1656899380126,
     "user": {
      "displayName": "Alejandro Gabriel Szuban",
      "userId": "14370620094475548673"
     },
     "user_tz": 180
    },
    "id": "bed7deb3-c3fe-4706-9c49-e902a1925d86"
   },
   "outputs": [],
   "source": [
    "#view(SiDiamond)"
   ]
  },
  {
   "cell_type": "markdown",
   "id": "0bebd456-559e-4f97-b0f6-b20ddb96e6bd",
   "metadata": {
    "id": "0bebd456-559e-4f97-b0f6-b20ddb96e6bd"
   },
   "source": [
    "Una forma más presentable de visualizar las estructuras es usando por ejemplo [VESTA](http://www.jp-minerals.org/vesta/en/download.html) "
   ]
  },
  {
   "cell_type": "markdown",
   "id": "25015a6b-85ad-4f6e-b2f8-c1ae303252f4",
   "metadata": {
    "id": "25015a6b-85ad-4f6e-b2f8-c1ae303252f4"
   },
   "source": [
    "# Generamos la estructura con defectos Sustitucionales"
   ]
  },
  {
   "cell_type": "markdown",
   "id": "31100b46-0dff-465f-925a-86262bfd4a20",
   "metadata": {
    "id": "31100b46-0dff-465f-925a-86262bfd4a20"
   },
   "source": [
    "Para poner un defecto sustitucional, basta con reemplazar un átomo del objeto atoms. Más fácil que en gmsh."
   ]
  },
  {
   "cell_type": "code",
   "execution_count": 14,
   "id": "500aa35e-3125-4195-87e6-6e9b486e8468",
   "metadata": {
    "colab": {
     "base_uri": "https://localhost:8080/"
    },
    "executionInfo": {
     "elapsed": 499,
     "status": "ok",
     "timestamp": 1656899389289,
     "user": {
      "displayName": "Alejandro Gabriel Szuban",
      "userId": "14370620094475548673"
     },
     "user_tz": 180
    },
    "id": "500aa35e-3125-4195-87e6-6e9b486e8468",
    "outputId": "dc0508b4-6126-4594-8e9a-43d0e80927fd"
   },
   "outputs": [
    {
     "data": {
      "text/plain": [
       "['Si', 'Si', 'Si', 'Si', 'Si', 'Si', 'Si', 'Si']"
      ]
     },
     "execution_count": 14,
     "metadata": {},
     "output_type": "execute_result"
    }
   ],
   "source": [
    "# hago copia de \"SiDiamond\", para no perderla y además poner defecto sustitucional.\n",
    "SiBDiamond = SiDiamond.copy()\n",
    "symbols = SiBDiamond.get_chemical_symbols()\n",
    "symbols"
   ]
  },
  {
   "cell_type": "code",
   "execution_count": 15,
   "id": "b2c9d023-dcd2-4c92-8cb6-518b6ae854f6",
   "metadata": {
    "colab": {
     "base_uri": "https://localhost:8080/",
     "height": 539
    },
    "executionInfo": {
     "elapsed": 627,
     "status": "ok",
     "timestamp": 1656899391488,
     "user": {
      "displayName": "Alejandro Gabriel Szuban",
      "userId": "14370620094475548673"
     },
     "user_tz": 180
    },
    "id": "b2c9d023-dcd2-4c92-8cb6-518b6ae854f6",
    "outputId": "0852147e-90a4-41d4-903c-18eb0c0f87ff"
   },
   "outputs": [
    {
     "name": "stdout",
     "output_type": "stream",
     "text": [
      "Atom('B', [0.0, 0.0, 0.0], index=0)\n",
      "Atom('Si', [1.0, 1.0, 1.0], index=1)\n",
      "Atom('Si', [0.0, 2.0, 2.0], index=2)\n",
      "Atom('Si', [1.0, 3.0, 3.0], index=3)\n",
      "Atom('Si', [2.0, 0.0, 2.0], index=4)\n",
      "Atom('Si', [3.0, 1.0, 3.0], index=5)\n",
      "Atom('Si', [2.0, 2.0, 0.0], index=6)\n",
      "Atom('Si', [3.0, 3.0, 1.0], index=7)\n"
     ]
    },
    {
     "data": {
      "text/plain": [
       "<AxesSubplot:>"
      ]
     },
     "execution_count": 15,
     "metadata": {},
     "output_type": "execute_result"
    },
    {
     "data": {
      "image/png": "[encoded data removed]",
      "text/plain": [
       "<Figure size 432x288 with 1 Axes>"
      ]
     },
     "metadata": {
      "needs_background": "light"
     },
     "output_type": "display_data"
    }
   ],
   "source": [
    "# Introduzco un átomo de BORO en el índice 0 de \"SiBDiamond\"; dopé con B en la posición [0,0,0].\n",
    "symbols[0] = 'B'   # para hacerlo, modifico \"symbols\"\n",
    "SiBDiamond.set_chemical_symbols(symbols)   # y a partir del \"symbols\" modificada, es que actualizo \"SiBDiamond\"\n",
    "print_newatoms = [print(at) for at in SiBDiamond]\n",
    "plot_atoms(SiBDiamond, rotation='10x, 10y')"
   ]
  },
  {
   "cell_type": "markdown",
   "id": "045147f4-22e0-4c49-833a-5debfbf6074d",
   "metadata": {
    "id": "045147f4-22e0-4c49-833a-5debfbf6074d"
   },
   "source": [
    "**Aunque un poco más elegante sería**"
   ]
  },
  {
   "cell_type": "markdown",
   "id": "9dbfa2a4-7e6b-4fed-9763-3f9a1f3e0125",
   "metadata": {
    "id": "9dbfa2a4-7e6b-4fed-9763-3f9a1f3e0125"
   },
   "source": [
    "1) pasar Objeto Atoms a una lista normal:\n",
    "\n",
    "``` python\n",
    "SiDiamondList = [at for at in SiDiamond]\n",
    "```\n",
    "\n",
    "2) cambiar el primer objeto de la lista:\n",
    "\n",
    "``` python\n",
    "SiDiamondList[0]=Atom('B', position=SiDiamond[0].position)\n",
    "```\n",
    "\n",
    "y despues volver a pasarlo a objeto Atoms:\n",
    "\n",
    "``` python\n",
    "SiBDiamond=Atoms(SiDiamondList, cell=SiDiamond.cell, pbc=True)\n",
    "```"
   ]
  },
  {
   "cell_type": "code",
   "execution_count": 16,
   "id": "R5foeIXyrLO-",
   "metadata": {
    "colab": {
     "base_uri": "https://localhost:8080/"
    },
    "executionInfo": {
     "elapsed": 346,
     "status": "ok",
     "timestamp": 1656899399601,
     "user": {
      "displayName": "Alejandro Gabriel Szuban",
      "userId": "14370620094475548673"
     },
     "user_tz": 180
    },
    "id": "R5foeIXyrLO-",
    "outputId": "8b40f2b4-b8ea-41d7-e075-612fc260ba59"
   },
   "outputs": [
    {
     "name": "stdout",
     "output_type": "stream",
     "text": [
      "Atom('B', [0.0, 0.0, 0.0], index=0)\n",
      "Atom('Si', [1.0, 1.0, 1.0], index=1)\n",
      "Atom('Si', [0.0, 2.0, 2.0], index=2)\n",
      "Atom('Si', [1.0, 3.0, 3.0], index=3)\n",
      "Atom('Si', [2.0, 0.0, 2.0], index=4)\n",
      "Atom('Si', [3.0, 1.0, 3.0], index=5)\n",
      "Atom('Si', [2.0, 2.0, 0.0], index=6)\n",
      "Atom('Si', [3.0, 3.0, 1.0], index=7)\n"
     ]
    }
   ],
   "source": [
    "# Creo lista normal, con los elementos de la original \"SiDiamond\".\n",
    "SiDiamondList = [at for at in SiDiamond]\n",
    "# Con \"atom\" defino el átomo de B, le asigno posición que tenía el Si en \"SiDiamond\", y guardo en la lista \"SiDiamondList\".\n",
    "SiDiamondList[0]=Atom('B', position=SiDiamond[0].position)\n",
    "# Con \"atoms\", defino la celda (igual a la de \"SiDiamond\", usando comando \".cell\") con condiciones periódicas de borde en los 3 ejes (pbc=True), a partir de\n",
    "# lo que contiene \"SiDiamondList\".\n",
    "SiCDiamond=Atoms(SiDiamondList, cell=SiDiamond.cell, pbc=True)\n",
    "print_newnew_atoms = [print(at) for at in SiCDiamond]"
   ]
  },
  {
   "cell_type": "markdown",
   "id": "2d4accaa-1830-4455-a8d9-5160c4b34260",
   "metadata": {
    "id": "2d4accaa-1830-4455-a8d9-5160c4b34260"
   },
   "source": [
    "# Tareas\n",
    "1.  convergencia en puntos K y en ondas planas\n",
    "2. Calcular curva E-V  y ajustar parámetro de red. ¿ Cambia mucho al cambiar un átomo solo ?\n",
    "3. Calcular estructura electrónica, i.e. densidad de estados. ¿Qué cambia ? "
   ]
  },
  {
   "cell_type": "markdown",
   "id": "4da412a7-2704-4ea8-a6cc-7bd42d044739",
   "metadata": {
    "id": "4da412a7-2704-4ea8-a6cc-7bd42d044739"
   },
   "source": [
    "# Definimios la calculadora"
   ]
  },
  {
   "cell_type": "markdown",
   "id": "eguMmslR9cvb",
   "metadata": {
    "id": "eguMmslR9cvb"
   },
   "source": [
    "Primero, calculamos usando la celda de Si SIN DOPAR con B."
   ]
  },
  {
   "cell_type": "code",
   "execution_count": 17,
   "id": "tRQWMtt99MRi",
   "metadata": {
    "colab": {
     "base_uri": "https://localhost:8080/"
    },
    "executionInfo": {
     "elapsed": 33478,
     "status": "ok",
     "timestamp": 1656900510209,
     "user": {
      "displayName": "Alejandro Gabriel Szuban",
      "userId": "14370620094475548673"
     },
     "user_tz": 180
    },
    "id": "tRQWMtt99MRi",
    "outputId": "ea5966a8-0bce-4e74-cd76-23e72b8cc97f"
   },
   "outputs": [
    {
     "data": {
      "text/plain": [
       "30.84122577365519"
      ]
     },
     "execution_count": 17,
     "metadata": {},
     "output_type": "execute_result"
    }
   ],
   "source": [
    "# Tomo expansión en ondas planas hasta \"300 eV\" (energía cinética de corte). Más agarre, más precisión.\n",
    "# Divido el cubo en grilla de \"5*5*5\". Más divisiones, más precisión, más tiempo de cálculo.\n",
    "calc = GPAW(mode=PW(300), xc='PBE', txt='SiDiamondExample.txt',kpts=[5,5,5])\n",
    "SiDiamond.set_calculator(calc)\n",
    "SiDiamond.get_potential_energy()"
   ]
  },
  {
   "cell_type": "markdown",
   "id": "02-S6lbl9zlO",
   "metadata": {
    "id": "02-S6lbl9zlO"
   },
   "source": [
    "Segundo, calculamos usando la celda de Si DOPADA con B"
   ]
  },
  {
   "cell_type": "code",
   "execution_count": 18,
   "id": "b49c8957-2efd-4e48-b97f-e338378c8a2b",
   "metadata": {
    "colab": {
     "base_uri": "https://localhost:8080/"
    },
    "executionInfo": {
     "elapsed": 29882,
     "status": "ok",
     "timestamp": 1656900574538,
     "user": {
      "displayName": "Alejandro Gabriel Szuban",
      "userId": "14370620094475548673"
     },
     "user_tz": 180
    },
    "id": "b49c8957-2efd-4e48-b97f-e338378c8a2b",
    "outputId": "54de1a42-2e1b-46fc-d771-165c58def6e6"
   },
   "outputs": [
    {
     "data": {
      "text/plain": [
       "15.080646323767574"
      ]
     },
     "execution_count": 18,
     "metadata": {},
     "output_type": "execute_result"
    }
   ],
   "source": [
    "# Tomo expansión en ondas planas hasta \"300 eV\" (energía cinética de corte). Más agarre, más precisión.\n",
    "# Divido el cubo en grilla de \"5*5*5\". Más divisiones, más precisión, más tiempo de cálculo.\n",
    "calc = GPAW(mode=PW(300), xc='PBE', txt='SiBDiamondExample.txt',kpts=[5,5,5])\n",
    "SiBDiamond.set_calculator(calc)\n",
    "SiBDiamond.get_potential_energy()"
   ]
  },
  {
   "cell_type": "markdown",
   "id": "jcluIw-9GtH5",
   "metadata": {
    "id": "jcluIw-9GtH5"
   },
   "source": [
    "**Conclusión:** Al dopar Si diamante con un átomo de B en la posición (0,0,0), *la energía potencial se reduce prácticamente a la mitad*."
   ]
  },
  {
   "cell_type": "markdown",
   "id": "f605ccca-849d-40e5-94d9-c1a24e8a3623",
   "metadata": {},
   "source": [
    "<div style=\"background:#999900\"> esto en si no quiere decir mucho porque estas cambiando la composición química y porque no estas seguro de que el parametro de red sea correcto. La forma de comparar estas energías es calculando la energía de formación:\n",
    "    </div>\n",
    "    \n",
    "\n",
    "    \n",
    "$$ \\Delta E_f = \\dfrac{1}{N} \\left( E_{compuesto} - \\sum_{i} n_i E_i \\right) $$\n",
    "\n",
    "    \n",
    "<div style=\"background:#999900\">\n",
    "donde $N$ es el número de átomos, $E_{compuesto}$ es la energía del compuesto calculada, $n_i$ es el número de átomos de la especie $i$ en el compuesto y $E_i$ es la energía por átomo del compuesto $i$ en su estructura de equilibrio. Es decir, tendrías que:\n",
    "    1. Calcular la curva E-V para cada elemento del compuesto puro (ie Si diamond y boro loquefuere)\n",
    "    2) calcular la curva E-B para el Si-B\n",
    "    3) calcular la energía de formación\n",
    "</div>\n",
    "\n",
    "# K-point convergence "
   ]
  },
  {
   "cell_type": "markdown",
   "id": "niJkAsXLJ6EH",
   "metadata": {
    "id": "niJkAsXLJ6EH"
   },
   "source": [
    "Defino las dos estructuras en las que evaluaré la convergencia en puntos K:\n",
    "- $SiDiamond$, sin dopar con B.\n",
    "- $SiBDiamond$, dopada con B."
   ]
  },
  {
   "cell_type": "code",
   "execution_count": 19,
   "id": "d882aaf0-785c-473f-9f30-f28a57be714b",
   "metadata": {
    "executionInfo": {
     "elapsed": 378,
     "status": "ok",
     "timestamp": 1656904623433,
     "user": {
      "displayName": "Alejandro Gabriel Szuban",
      "userId": "14370620094475548673"
     },
     "user_tz": 180
    },
    "id": "d882aaf0-785c-473f-9f30-f28a57be714b"
   },
   "outputs": [],
   "source": [
    "structures = [('pure', SiDiamond, 5.5), ('wBoron', SiBDiamond, 5.25)] # Nombre, estructura, parámetro de red."
   ]
  },
  {
   "cell_type": "code",
   "execution_count": 20,
   "id": "nF9kV_boOS5j",
   "metadata": {
    "colab": {
     "base_uri": "https://localhost:8080/"
    },
    "executionInfo": {
     "elapsed": 382,
     "status": "ok",
     "timestamp": 1656904832167,
     "user": {
      "displayName": "Alejandro Gabriel Szuban",
      "userId": "14370620094475548673"
     },
     "user_tz": 180
    },
    "id": "nF9kV_boOS5j",
    "outputId": "d2e5b697-2317-44ba-e79d-148968727080"
   },
   "outputs": [
    {
     "name": "stdout",
     "output_type": "stream",
     "text": [
      "('pure', Atoms(symbols='Si8', pbc=True, cell=[4.0, 4.0, 4.0], calculator=GPAW(...)), 5.5)\n"
     ]
    }
   ],
   "source": [
    "print(structures[0])"
   ]
  },
  {
   "cell_type": "code",
   "execution_count": 21,
   "id": "nYJbtNZbOTj5",
   "metadata": {
    "colab": {
     "base_uri": "https://localhost:8080/"
    },
    "executionInfo": {
     "elapsed": 15,
     "status": "ok",
     "timestamp": 1656904834209,
     "user": {
      "displayName": "Alejandro Gabriel Szuban",
      "userId": "14370620094475548673"
     },
     "user_tz": 180
    },
    "id": "nYJbtNZbOTj5",
    "outputId": "1e5aa70e-fe47-459a-e653-c3a9c1e69cd5"
   },
   "outputs": [
    {
     "name": "stdout",
     "output_type": "stream",
     "text": [
      "pure\n"
     ]
    }
   ],
   "source": [
    "print(structures[0][0])"
   ]
  },
  {
   "cell_type": "code",
   "execution_count": 22,
   "id": "26af8832-72ba-4e33-a64d-ecaf8085367c",
   "metadata": {
    "executionInfo": {
     "elapsed": 395,
     "status": "ok",
     "timestamp": 1656906105625,
     "user": {
      "displayName": "Alejandro Gabriel Szuban",
      "userId": "14370620094475548673"
     },
     "user_tz": 180
    },
    "id": "26af8832-72ba-4e33-a64d-ecaf8085367c"
   },
   "outputs": [],
   "source": [
    "kpoints = [3, 4, 5,7,9,11,13,14,15] # Grillas a ensayar\n",
    "Ekpt = {} # Guardaré, para cada estructura (name), la información de las grillas en un diccionario"
   ]
  },
  {
   "cell_type": "markdown",
   "id": "69839e7f-07a3-4319-8a52-43f62fd3f997",
   "metadata": {},
   "source": [
    "Para no tener que hacer las cuentas de nuevo cada vez que corres este loop podes definir un archivo donde \n",
    "guradrar los resultados y probar si existe antes de hacer la cuenta"
   ]
  },
  {
   "cell_type": "code",
   "execution_count": 23,
   "id": "1ea23e9f-b26c-4b20-aa75-8b86f88a05d8",
   "metadata": {},
   "outputs": [],
   "source": [
    "import os"
   ]
  },
  {
   "cell_type": "code",
   "execution_count": 24,
   "id": "8b6873fd-372f-419a-a4ef-9dc49b41bb87",
   "metadata": {},
   "outputs": [],
   "source": [
    "calcsdir='calcs_kpoints'\n",
    "if not os.path.exists(calcsdir):\n",
    "    os.makedirs(calcsdir)"
   ]
  },
  {
   "cell_type": "code",
   "execution_count": 25,
   "id": "d89b29ba-0236-487c-9995-37e55c979347",
   "metadata": {},
   "outputs": [],
   "source": [
    "import pdb"
   ]
  },
  {
   "cell_type": "code",
   "execution_count": 26,
   "id": "c1e1e329-a6ea-441c-ba7a-ee7c88091a73",
   "metadata": {},
   "outputs": [
    {
     "data": {
      "application/vnd.jupyter.widget-view+json": {
       "model_id": "ec9c5760998c4176946d4bb3d48e21ee",
       "version_major": 2,
       "version_minor": 0
      },
      "text/plain": [
       "  0%|          | 0/9 [00:00<?, ?it/s]"
      ]
     },
     "metadata": {},
     "output_type": "display_data"
    },
    {
     "data": {
      "application/vnd.jupyter.widget-view+json": {
       "model_id": "4fd347bd2db243b3bc4ecde68d8eec69",
       "version_major": 2,
       "version_minor": 0
      },
      "text/plain": [
       "  0%|          | 0/9 [00:00<?, ?it/s]"
      ]
     },
     "metadata": {},
     "output_type": "display_data"
    }
   ],
   "source": [
    "for case in structures:\n",
    "    name, struc, latpar = case\n",
    "    Ekpt[name] = np.array([])\n",
    "    for kpt in tqdm(kpoints):\n",
    "        # Energía cinética de corte 300 eV. Divido celda en grilla de \"kpt*kpt*kpt\"\n",
    "        gpawfile =os.path.join(calcsdir, f'{name}_kpts_{kpt}.gpaw')\n",
    "        logfile = os.path.join(calcsdir, f'{name}_{kpt}.txt')\n",
    "        calc = load_calc(gpawfile, mode=PW(300), txt=logfile, xc='PBE', kpts=[kpt,kpt,kpt])\n",
    "        struc.set_calculator(calc)\n",
    "        # Divide la energía potencial por el número de átomos, para normalizar, por si llegara a comparar estructuras con diferente cantidad de átomos.\n",
    "        Ekpt[name]=np.append(Ekpt[name], struc.get_potential_energy()/struc.get_global_number_of_atoms())\n",
    "        struc.calc.write(gpawfile)"
   ]
  },
  {
   "cell_type": "markdown",
   "id": "9-g8m1QvOrIb",
   "metadata": {
    "id": "9-g8m1QvOrIb"
   },
   "source": [
    "Imprimo energías potenciales de $SiDiamond$"
   ]
  },
  {
   "cell_type": "code",
   "execution_count": 27,
   "id": "Ep9nBEpPOhcp",
   "metadata": {
    "colab": {
     "base_uri": "https://localhost:8080/"
    },
    "executionInfo": {
     "elapsed": 39,
     "status": "ok",
     "timestamp": 1656907643563,
     "user": {
      "displayName": "Alejandro Gabriel Szuban",
      "userId": "14370620094475548673"
     },
     "user_tz": 180
    },
    "id": "Ep9nBEpPOhcp",
    "outputId": "d44fffb1-1a7b-4931-a67f-1c648289ddde"
   },
   "outputs": [
    {
     "name": "stdout",
     "output_type": "stream",
     "text": [
      "[3.82942323 3.84226177 3.85515322 3.85366022 3.84680203 3.84643687\n",
      " 3.84849821 3.8486624  3.8487114 ]\n"
     ]
    }
   ],
   "source": [
    "print(Ekpt[structures[0][0]])"
   ]
  },
  {
   "cell_type": "markdown",
   "id": "GNtirYtuPEea",
   "metadata": {
    "id": "GNtirYtuPEea"
   },
   "source": [
    "Imprimo energías potenciales de $SiBDiamond$"
   ]
  },
  {
   "cell_type": "code",
   "execution_count": 28,
   "id": "KJ0_wf_lPFCI",
   "metadata": {
    "colab": {
     "base_uri": "https://localhost:8080/"
    },
    "executionInfo": {
     "elapsed": 14,
     "status": "ok",
     "timestamp": 1656907643564,
     "user": {
      "displayName": "Alejandro Gabriel Szuban",
      "userId": "14370620094475548673"
     },
     "user_tz": 180
    },
    "id": "KJ0_wf_lPFCI",
    "outputId": "29abee0a-f969-44a4-a46f-6ec5761bd1d0"
   },
   "outputs": [
    {
     "name": "stdout",
     "output_type": "stream",
     "text": [
      "[1.87559471 1.87535473 1.88508079 1.87945832 1.87788234 1.87564313\n",
      " 1.87482283 1.87463    1.87466355]\n"
     ]
    }
   ],
   "source": [
    "print(Ekpt[structures[1][0]])"
   ]
  },
  {
   "cell_type": "markdown",
   "id": "1f1IWECFSYm2",
   "metadata": {
    "id": "1f1IWECFSYm2"
   },
   "source": [
    "**Conclusión:** De nuevo, las energías asociadas al Si dopado con B son menores."
   ]
  },
  {
   "cell_type": "markdown",
   "id": "HiZi-Bu4RJFx",
   "metadata": {
    "id": "HiZi-Bu4RJFx"
   },
   "source": [
    "***Convergencia*** significa que la diferencia de energía entre un cierto K y el último K, dividida por la energía del último K, es menor a un determinado margen establecido.\n",
    "\n",
    "**Este cociente** es lo que se grafica a continuación, en función del número de puntos K."
   ]
  },
  {
   "cell_type": "code",
   "execution_count": 29,
   "id": "7444f87d-f82e-401b-87ed-e9e78f0437ab",
   "metadata": {
    "colab": {
     "base_uri": "https://localhost:8080/",
     "height": 426
    },
    "executionInfo": {
     "elapsed": 1195,
     "status": "ok",
     "timestamp": 1656907644749,
     "user": {
      "displayName": "Alejandro Gabriel Szuban",
      "userId": "14370620094475548673"
     },
     "user_tz": 180
    },
    "id": "7444f87d-f82e-401b-87ed-e9e78f0437ab",
    "outputId": "9c4337be-41bb-49dd-dfe2-6642371411d8"
   },
   "outputs": [
    {
     "data": {
      "text/plain": [
       "<matplotlib.legend.Legend at 0x7f7b784b10a0>"
      ]
     },
     "execution_count": 29,
     "metadata": {},
     "output_type": "execute_result"
    },
    {
     "data": {
      "image/png": "[encoded data removed]",
      "text/plain": [
       "<Figure size 432x288 with 1 Axes>"
      ]
     },
     "metadata": {
      "needs_background": "light"
     },
     "output_type": "display_data"
    }
   ],
   "source": [
    "plots = [plt.plot(kpoints[:-1], econvergence(energies), '-o', label = struc) for struc, energies in Ekpt.items()]\n",
    "plt.yscale('log')\n",
    "plt.ylabel('$\\Delta E / E$')\n",
    "plt.xlabel('ḱpoits grid')\n",
    "plt.legend()"
   ]
  },
  {
   "cell_type": "markdown",
   "id": "LNsY2mvSUs-Y",
   "metadata": {
    "id": "LNsY2mvSUs-Y"
   },
   "source": [
    "**Conclusión:** Hay convergencia a partir de $K = 11$. Deberé tomar grillado de $11*11*11$."
   ]
  },
  {
   "cell_type": "code",
   "execution_count": 30,
   "id": "43f7704b-018c-4aef-a499-a1ed812af0b4",
   "metadata": {
    "executionInfo": {
     "elapsed": 344,
     "status": "ok",
     "timestamp": 1656907805272,
     "user": {
      "displayName": "Alejandro Gabriel Szuban",
      "userId": "14370620094475548673"
     },
     "user_tz": 180
    },
    "id": "43f7704b-018c-4aef-a499-a1ed812af0b4"
   },
   "outputs": [],
   "source": [
    "KPT = 11"
   ]
  },
  {
   "cell_type": "markdown",
   "id": "f06570f4-ca8d-4571-a6dd-7c1cc85c28da",
   "metadata": {
    "id": "f06570f4-ca8d-4571-a6dd-7c1cc85c28da"
   },
   "source": [
    "# cutoff convergence"
   ]
  },
  {
   "cell_type": "markdown",
   "id": "9c488de6-37ec-4625-9fbe-29de4850b4c9",
   "metadata": {
    "id": "9c488de6-37ec-4625-9fbe-29de4850b4c9"
   },
   "source": [
    "A partir de aca hay que completar !"
   ]
  },
  {
   "cell_type": "code",
   "execution_count": 31,
   "id": "0182b0a3-0168-4669-9eba-d028f8c28288",
   "metadata": {
    "executionInfo": {
     "elapsed": 350,
     "status": "ok",
     "timestamp": 1656907808675,
     "user": {
      "displayName": "Alejandro Gabriel Szuban",
      "userId": "14370620094475548673"
     },
     "user_tz": 180
    },
    "id": "0182b0a3-0168-4669-9eba-d028f8c28288"
   },
   "outputs": [],
   "source": [
    "ecuts = [200, 250, 300, 400] # Energías cinéticas de corte (como la que habíamos usado de 300 eV arriba).\n",
    "Ecutoff = {} # Guardaré, para cada estructura (name), la información de las energías de corte en un diccionario"
   ]
  },
  {
   "cell_type": "markdown",
   "id": "4c991cdd-39b8-483a-bb9e-7e33112b9a9b",
   "metadata": {},
   "source": [
    "<div style=\"background:#999900\"> igual que antes, usamos archivos para evitar recalcular todo </div>"
   ]
  },
  {
   "cell_type": "code",
   "execution_count": 32,
   "id": "b07cebb2-a7e4-4a01-97de-28cb95adc8e6",
   "metadata": {},
   "outputs": [],
   "source": [
    "calcsdir = 'calcs_ecut'\n",
    "if not os.path.exists(calcsdir):\n",
    "    os.makedirs(calcsdir)"
   ]
  },
  {
   "cell_type": "code",
   "execution_count": 33,
   "id": "twxMMlO9Wjs5",
   "metadata": {
    "colab": {
     "base_uri": "https://localhost:8080/",
     "height": 81,
     "referenced_widgets": [
      "7ffd0baa89e140a7aeb7b1723e771dc0",
      "12004a4946a9415896d1f66956c4b3f2",
      "2bcf9658215742f69b2624a5847047c3",
      "51fb30f7992a416bb65d0985ad3f923f",
      "3e679185c2274ee9a3df6408cf6d6149",
      "80a65e0ed1204bc09f2b6b12f4691ad2",
      "9f80d312a12945d9a291564ee47541a9",
      "fcd499ba024f4c9fa3f00ead9dd2adfa",
      "5756cfd63f704387aaffb6bed4fc899d",
      "91d2219ad4fe44e69a82de7bb20a98ae",
      "3361cebc8b75499c8c8cef1f77d2eb3a",
      "5fa998bd19ec4f578ba405257c82cc62",
      "bc50f8aa9a714221b33c91f70c5b3b1e",
      "33730e19533944a4a822d8813b7eb802",
      "2fdf1dbe11aa42ef87a359471f01c018",
      "62752b6e3a00423da28379c62adfc633",
      "42224ee6fc11447f9ad9b550a70c4969",
      "be437fbc69f64219b684c04848a1e138",
      "aebb1765bab447bbb08b2227ba9526b1",
      "3f47610edbe24b3291b63d48a45f8228",
      "5d200974c4d74c70a456454ee32abddd",
      "070b191c00994ab89caad63f2784573c"
     ]
    },
    "executionInfo": {
     "elapsed": 813807,
     "status": "ok",
     "timestamp": 1656908637338,
     "user": {
      "displayName": "Alejandro Gabriel Szuban",
      "userId": "14370620094475548673"
     },
     "user_tz": 180
    },
    "id": "twxMMlO9Wjs5",
    "outputId": "5c499b99-ecc5-45d2-afc1-c8c6bfc9c396"
   },
   "outputs": [
    {
     "data": {
      "application/vnd.jupyter.widget-view+json": {
       "model_id": "a4ea4cecc5c440f5a6a999f31f5ef7e3",
       "version_major": 2,
       "version_minor": 0
      },
      "text/plain": [
       "  0%|          | 0/4 [00:00<?, ?it/s]"
      ]
     },
     "metadata": {},
     "output_type": "display_data"
    },
    {
     "data": {
      "application/vnd.jupyter.widget-view+json": {
       "model_id": "26e5354f20a541bb8d7a5d6d2c42c5de",
       "version_major": 2,
       "version_minor": 0
      },
      "text/plain": [
       "  0%|          | 0/4 [00:00<?, ?it/s]"
      ]
     },
     "metadata": {},
     "output_type": "display_data"
    }
   ],
   "source": [
    "for case in structures:\n",
    "    name, struc, latpar = case\n",
    "    Ecutoff[name] = np.array([])\n",
    "    progress = tqdm(ecuts)\n",
    "    for ecut in progress:\n",
    "        filename = os.path.join(calcsdir, f'{name}_{ecut}.gpaw')\n",
    "        logfilename = os.path.join(calcsdir, f'{name}_{ecut}.txt')\n",
    "        # Energía cinética de corte \"ecut\" eV. Divido celda en grilla de \"KPT*KPT*KPT\".\n",
    "        calc = load_calc(filename, mode=PW(ecut), txt=logfilename, xc='PBE', kpts=[KPT,KPT,KPT])\n",
    "        struc.set_calculator(calc)\n",
    "        # Divide la energía potencial por el número de átomos, para normalizar, por si llegara a comparar estructuras con diferente cantidad de átomos.\n",
    "        Ecutoff[name]=np.append(Ecutoff[name], struc.get_potential_energy()/struc.get_global_number_of_atoms())\n",
    "        struc.calc.write(filename)"
   ]
  },
  {
   "cell_type": "code",
   "execution_count": 34,
   "id": "9daace6e-41f9-459c-bb6e-bad81f302f5c",
   "metadata": {
    "colab": {
     "base_uri": "https://localhost:8080/"
    },
    "executionInfo": {
     "elapsed": 453,
     "status": "ok",
     "timestamp": 1656908948004,
     "user": {
      "displayName": "Alejandro Gabriel Szuban",
      "userId": "14370620094475548673"
     },
     "user_tz": 180
    },
    "id": "9daace6e-41f9-459c-bb6e-bad81f302f5c",
    "outputId": "ebb030f8-6fab-4545-d235-3d514bacbd4a"
   },
   "outputs": [
    {
     "data": {
      "text/plain": [
       "{'pure': array([3.85598245, 3.84828234, 3.84643687, 3.84383355]),\n",
       " 'wBoron': array([1.9960631 , 1.91424633, 1.87564313, 1.851634  ])}"
      ]
     },
     "execution_count": 34,
     "metadata": {},
     "output_type": "execute_result"
    }
   ],
   "source": [
    "Ecutoff"
   ]
  },
  {
   "cell_type": "code",
   "execution_count": 35,
   "id": "18dc7c37-3d56-453d-9435-08c0f7079dff",
   "metadata": {
    "colab": {
     "base_uri": "https://localhost:8080/",
     "height": 423
    },
    "executionInfo": {
     "elapsed": 435,
     "status": "ok",
     "timestamp": 1656908962289,
     "user": {
      "displayName": "Alejandro Gabriel Szuban",
      "userId": "14370620094475548673"
     },
     "user_tz": 180
    },
    "id": "18dc7c37-3d56-453d-9435-08c0f7079dff",
    "outputId": "4dc583a0-585e-4c32-99db-4c8d0f387b20"
   },
   "outputs": [
    {
     "data": {
      "text/plain": [
       "<matplotlib.legend.Legend at 0x7f7b7834c640>"
      ]
     },
     "execution_count": 35,
     "metadata": {},
     "output_type": "execute_result"
    },
    {
     "data": {
      "image/png": "[encoded data removed]",
      "text/plain": [
       "<Figure size 432x288 with 1 Axes>"
      ]
     },
     "metadata": {
      "needs_background": "light"
     },
     "output_type": "display_data"
    }
   ],
   "source": [
    "[plt.plot(ecuts[:-1], econvergence(energies), label = struc) for struc, energies in Ecutoff.items()]\n",
    "plt.ylabel('$\\Delta E /E$')\n",
    "plt.xlabel('Ecutoff')\n",
    "plt.legend()"
   ]
  },
  {
   "cell_type": "markdown",
   "id": "nOWHZRVUcuC2",
   "metadata": {
    "id": "nOWHZRVUcuC2"
   },
   "source": [
    "**Conclusión:** Hay convergencia a partir de $E = 350$. Deberé tomar energía cinética de corte $ECUT = 350$."
   ]
  },
  {
   "cell_type": "code",
   "execution_count": 36,
   "id": "0ed3459d-37a0-41d9-9783-968a2fc0f9c3",
   "metadata": {
    "executionInfo": {
     "elapsed": 360,
     "status": "ok",
     "timestamp": 1656908968625,
     "user": {
      "displayName": "Alejandro Gabriel Szuban",
      "userId": "14370620094475548673"
     },
     "user_tz": 180
    },
    "id": "0ed3459d-37a0-41d9-9783-968a2fc0f9c3"
   },
   "outputs": [],
   "source": [
    "ECUT = 350"
   ]
  },
  {
   "cell_type": "markdown",
   "id": "82c8077e-5c48-4e77-b251-aba145baf2f5",
   "metadata": {
    "id": "82c8077e-5c48-4e77-b251-aba145baf2f5"
   },
   "source": [
    "# Lattice Parameter"
   ]
  },
  {
   "cell_type": "markdown",
   "id": "qmjJDyDrei0w",
   "metadata": {
    "id": "qmjJDyDrei0w"
   },
   "source": [
    "Inicialmente había supuesto un parámetro de red $a=5$, pero ahora probaré con 10 valores en el entorno de $a=5$."
   ]
  },
  {
   "cell_type": "markdown",
   "id": "866c4750-95ab-4582-9f03-3b7e00a2a3c1",
   "metadata": {
    "executionInfo": {
     "elapsed": 423,
     "status": "ok",
     "timestamp": 1656910424877,
     "user": {
      "displayName": "Alejandro Gabriel Szuban",
      "userId": "14370620094475548673"
     },
     "user_tz": 180
    },
    "id": "62d51678-b13f-4da2-888f-ecbb2d22ec3b"
   },
   "source": [
    "\n",
    "``` python\n",
    "# Hago loop sobre los parámetros de red, y para dada estructura calculo la energía asociada a utilizar ese parámetro de red. Obendré energías en función de\n",
    "# parámatro de red (en realidad cubo de parámetro de red, volumen), y así puedo obtener el parámetro de red que minimiza la energía.\n",
    "latparams = {'diamond': np.linspace(4.8,5.5,10), 'wBoron': np.linspace(4.8, 5.5, 10)}\n",
    "def evcurve(element: str, structure, sizes: np.ndarray, calculator):\n",
    "    \"\"\"\n",
    "    Parametros:\n",
    "    alement: str con el nombre de la estructura\n",
    "    structure: nombre de a estructura para generar el atoms object.\n",
    "    sizes: lista de parámetros de red\n",
    "    calculator: calculadora GPAW.\n",
    "    \n",
    "    \"\"\"\n",
    "    print(f'working on {element} in {structure}')\n",
    "    structures = []\n",
    "    E = []\n",
    "    V = []\n",
    "    progress = tqdm(sizes)\n",
    "    for a in progress:\n",
    "        calc = GPAW(mode=PW(ECUT), xc='PBE', txt=f'{element}{structure}_{a}.txt',kpts=[KPT,KPT,KPT])\n",
    "        structures.append(bulk(element, structure, a=a, cubic=True))\n",
    "        structures[-1].set_calculator(calculator)\n",
    "        E.append(structures[-1].get_potential_energy())\n",
    "        V.append(structures[-1].get_volume())\n",
    "    return {'E': E, 'V': V, 'strucs': structures}\n",
    "```"
   ]
  },
  {
   "cell_type": "markdown",
   "id": "d7b2541b-1890-4015-a6ce-78fafc376c79",
   "metadata": {},
   "source": [
    "<div style=\"background:999900\" > en realidad la función de arriva hay que cambiarla un poco porque vos vas a quere darle los objetos atoms ya armados, en lugar de armarlos dentro del loop. Dentro del loop solo vas a querer cambarles el parámetro de red. </div>"
   ]
  },
  {
   "cell_type": "code",
   "execution_count": 37,
   "id": "4bbc7584-6ff6-4481-a83d-011aeb0aa6be",
   "metadata": {},
   "outputs": [
    {
     "data": {
      "text/plain": [
       "[('pure',\n",
       "  Atoms(symbols='Si8', pbc=True, cell=[4.0, 4.0, 4.0], calculator=GPAW(...)),\n",
       "  5.5),\n",
       " ('wBoron',\n",
       "  Atoms(symbols='BSi7', pbc=True, cell=[4.0, 4.0, 4.0], calculator=GPAW(...)),\n",
       "  5.25)]"
      ]
     },
     "execution_count": 37,
     "metadata": {},
     "output_type": "execute_result"
    }
   ],
   "source": [
    "structures"
   ]
  },
  {
   "cell_type": "code",
   "execution_count": 38,
   "id": "59dda241-6fc4-460a-ab16-81a0dc7779bc",
   "metadata": {},
   "outputs": [],
   "source": [
    "latparcalcs = 'calcs_latpar'"
   ]
  },
  {
   "cell_type": "code",
   "execution_count": 39,
   "id": "89082cd8-51ef-4129-9df3-bbec3cce0c3e",
   "metadata": {},
   "outputs": [],
   "source": [
    "if not os.path.exists(latparcalcs):\n",
    "    os.makedirs(latparcalcs)"
   ]
  },
  {
   "cell_type": "code",
   "execution_count": 40,
   "id": "ae0976de-4193-4b0d-b75f-79c8764e4c97",
   "metadata": {},
   "outputs": [],
   "source": [
    "import ase, gpaw\n",
    "def doevcurve(name: str, struc: ase.atoms.Atoms, sizes: np.ndarray, gpaw_kwargs:dict):\n",
    "    \"\"\"\n",
    "    name: str con el nombre de la estructura\n",
    "    struc: atoms object con la estructura a calcular\n",
    "    sizes: np.ndarray con los parametros de red para esta estructura\n",
    "    gpaw_kwargs: opciones para gpaw\n",
    "    \"\"\"\n",
    "    E = []\n",
    "    V = []\n",
    "    progress = tqdm(sizes)\n",
    "    for latpar in progress:\n",
    "        gpawfile = os.path.join(latparcalcs, f'{name}_latpar_{latpar:.2f}.gpaw')\n",
    "        logfile = os.path.join(latparcalcs, f'{name}_latpar_{latpar:.2f}.txt')\n",
    "        gpaw_kwargs.update({'txt': logfile})\n",
    "        calc = load_calc(gpawfile, **gpaw_kwargs)\n",
    "        struc.set_cell(latpar*np.eye(3), scale_atoms=True) # ojo, esto vale solo para cubicas !\n",
    "        struc.set_calculator(calc)\n",
    "        V.append(struc.get_volume())\n",
    "        E.append(struc.get_potential_energy())\n",
    "        struc.calc.write(gpawfile)\n",
    "    return {'V': V, 'E': E}\n",
    "        \n",
    "        "
   ]
  },
  {
   "cell_type": "code",
   "execution_count": 41,
   "id": "93409e4c-c3d3-4c2c-9221-0a888b63dfc0",
   "metadata": {},
   "outputs": [],
   "source": [
    "GPAW_KWARGS = dict(mode=PW(ECUT), xc='PBE', kpts=[KPT,KPT,KPT])"
   ]
  },
  {
   "cell_type": "code",
   "execution_count": 42,
   "id": "628e3c8f-ee5c-4e6d-974f-c1982d8d156a",
   "metadata": {},
   "outputs": [],
   "source": [
    "evcurves={}"
   ]
  },
  {
   "cell_type": "code",
   "execution_count": 43,
   "id": "5d60ded2-b48c-44c9-8fb9-4bf8aee0278b",
   "metadata": {
    "colab": {
     "base_uri": "https://localhost:8080/",
     "height": 360,
     "referenced_widgets": [
      "74ea7d81c60748b7854377f00ec86c14",
      "4b1fac9ceb674c42a7445978d3ce4008",
      "63f4d163311c431384f884126f41a46c",
      "e012801f6edf490e8585bd432df2a31a",
      "3d5efed98bd347fd86d9222bf3255d20",
      "3f98a9e24d414c7ab61669bc63f4cebf",
      "31d85ad851ad421d81904f034e0f5208",
      "0671a923c1fb4462b7930d54c0d310a3",
      "118311d316044b8a83e2ca49b4cb4af6",
      "84ee07f639264ad7aaad15932f42a61d",
      "a0db97fd7fb74b11b296e88217165ed0"
     ]
    },
    "executionInfo": {
     "elapsed": 14441,
     "status": "error",
     "timestamp": 1656911063976,
     "user": {
      "displayName": "Alejandro Gabriel Szuban",
      "userId": "14370620094475548673"
     },
     "user_tz": 180
    },
    "id": "bb84161c-7865-47bc-9d6d-4a2ee9697544",
    "outputId": "6f251760-68fd-4a61-8a78-3e94a673d6e1"
   },
   "outputs": [
    {
     "name": "stdout",
     "output_type": "stream",
     "text": [
      "5.5\n"
     ]
    },
    {
     "data": {
      "application/vnd.jupyter.widget-view+json": {
       "model_id": "b7af0ca276ab4c7dbe1510ff719f8d53",
       "version_major": 2,
       "version_minor": 0
      },
      "text/plain": [
       "  0%|          | 0/10 [00:00<?, ?it/s]"
      ]
     },
     "metadata": {},
     "output_type": "display_data"
    },
    {
     "name": "stdout",
     "output_type": "stream",
     "text": [
      "5.25\n"
     ]
    },
    {
     "data": {
      "application/vnd.jupyter.widget-view+json": {
       "model_id": "faab8e49fe1c449ca149d9b91a6d12a1",
       "version_major": 2,
       "version_minor": 0
      },
      "text/plain": [
       "  0%|          | 0/10 [00:00<?, ?it/s]"
      ]
     },
     "metadata": {},
     "output_type": "display_data"
    }
   ],
   "source": [
    "for case in structures:\n",
    "    name, struc, guess = case\n",
    "    print(guess)\n",
    "    latparams = np.linspace(guess*0.95, guess*1.05, 10)\n",
    "    evcurves[name] = doevcurve(name,struc, latparams, GPAW_KWARGS)"
   ]
  },
  {
   "cell_type": "code",
   "execution_count": 44,
   "id": "880b5cba-d23d-4cc5-a96c-b470d97256f9",
   "metadata": {
    "id": "880b5cba-d23d-4cc5-a96c-b470d97256f9",
    "outputId": "bb911812-d6ff-4b6b-dc41-c4b916b9e65f"
   },
   "outputs": [
    {
     "data": {
      "image/png": "[encoded data removed]",
      "text/plain": [
       "<Figure size 432x288 with 1 Axes>"
      ]
     },
     "metadata": {
      "needs_background": "light"
     },
     "output_type": "display_data"
    }
   ],
   "source": [
    "for (name, evcurve), case in zip(evcurves.items(), structures):\n",
    "    structure = case[1]\n",
    "    natoms = structure.get_global_number_of_atoms()\n",
    "    plt.plot(np.array(evcurve['V'])/natoms,np.array(evcurve['E'])/natoms, label=name)\n",
    "plt.legend()\n",
    "xlabel=plt.xlabel('atomic volume ($\\AA ^3 / atom $)')\n",
    "ylabel = plt.ylabel('E (eV / atom)')"
   ]
  },
  {
   "cell_type": "markdown",
   "id": "91f8a868-e326-4476-94c9-fe81eb7f73ee",
   "metadata": {
    "id": "91f8a868-e326-4476-94c9-fe81eb7f73ee"
   },
   "source": [
    "# Ecuación de Estado "
   ]
  },
  {
   "cell_type": "code",
   "execution_count": 45,
   "id": "56b2d1bf-0be2-4695-aa5c-30937a5e08f2",
   "metadata": {
    "id": "56b2d1bf-0be2-4695-aa5c-30937a5e08f2"
   },
   "outputs": [],
   "source": [
    "eos = EquationOfState(evcurves['wBoron']['V'],evcurves['wBoron']['E'],eos='birchmurnaghan')"
   ]
  },
  {
   "cell_type": "code",
   "execution_count": 46,
   "id": "cf5f0796-4b35-4e7a-9cec-5524af1f2cee",
   "metadata": {
    "id": "cf5f0796-4b35-4e7a-9cec-5524af1f2cee",
    "outputId": "8e2a1022-eb14-42b6-e468-d7eea6cbab46"
   },
   "outputs": [
    {
     "data": {
      "text/plain": [
       "(151.70250051182663, -42.39259906203289, 0.580117610335271)"
      ]
     },
     "execution_count": 46,
     "metadata": {},
     "output_type": "execute_result"
    }
   ],
   "source": [
    "eos.fit()"
   ]
  },
  {
   "cell_type": "code",
   "execution_count": 49,
   "id": "2011aeee-82cb-44f5-9ffc-71c608f49b21",
   "metadata": {
    "id": "2011aeee-82cb-44f5-9ffc-71c608f49b21",
    "outputId": "f0a51eb9-0dbe-4598-d49d-468a604eccd5"
   },
   "outputs": [
    {
     "data": {
      "image/png": "[encoded data removed]",
      "text/plain": [
       "<Figure size 432x288 with 1 Axes>"
      ]
     },
     "metadata": {
      "needs_background": "light"
     },
     "output_type": "display_data"
    }
   ],
   "source": [
    "ax = eos.plot()\n",
    "title = ax.get_title()\n",
    "newtitle = ax.set_title('$Si_7 B_1$' + title)"
   ]
  },
  {
   "cell_type": "code",
   "execution_count": 50,
   "id": "d2dddbc1-c7c9-4743-93cd-f0bbac2956a3",
   "metadata": {
    "id": "d2dddbc1-c7c9-4743-93cd-f0bbac2956a3"
   },
   "outputs": [],
   "source": [
    "eqa = eos.v0**(1/3)"
   ]
  },
  {
   "cell_type": "code",
   "execution_count": 51,
   "id": "8a44bf54-5f74-456b-9242-d87dec7b2528",
   "metadata": {
    "id": "8a44bf54-5f74-456b-9242-d87dec7b2528",
    "outputId": "9ba9b03c-eeb4-402a-af01-08adda274d69"
   },
   "outputs": [
    {
     "data": {
      "text/plain": [
       "5.333319233391247"
      ]
     },
     "execution_count": 51,
     "metadata": {},
     "output_type": "execute_result"
    }
   ],
   "source": [
    "eqa"
   ]
  },
  {
   "cell_type": "markdown",
   "id": "5e0f89a9-01b7-44e5-89e5-b76dd457692b",
   "metadata": {
    "id": "5e0f89a9-01b7-44e5-89e5-b76dd457692b"
   },
   "source": [
    "# Densidad de Estados "
   ]
  },
  {
   "cell_type": "markdown",
   "id": "7e111830-1166-433c-951d-e79b449f5bfc",
   "metadata": {},
   "source": [
    "A partir de aca tendrías que completar!"
   ]
  },
  {
   "cell_type": "code",
   "execution_count": null,
   "id": "818126f7-b523-49be-8ea7-34ee51b7be8e",
   "metadata": {
    "id": "818126f7-b523-49be-8ea7-34ee51b7be8e"
   },
   "outputs": [],
   "source": [
    "eqstruc = bulk('l','fcc',a=eqa, cubic=True)\n",
    "calc = GPAW(mode=PW(ECUT), xc='PBE', kpts=[11,11,11], txt='equilibrium.txt')\n",
    "eqstruc.set_calculator(calc)\n",
    "eqstruc.get_potential_energy()\n",
    "\n",
    "e,dos = eqstruc.calc.get_dos(npts=500)\n",
    "ef = eqstruc.calc.get_fermi_level()"
   ]
  },
  {
   "cell_type": "code",
   "execution_count": null,
   "id": "dfd9eda6-f4fb-489d-8be7-84e768ec26c4",
   "metadata": {
    "id": "dfd9eda6-f4fb-489d-8be7-84e768ec26c4",
    "outputId": "7a48dc2c-2caa-4cc1-ce70-401932f585c2"
   },
   "outputs": [],
   "source": [
    "plt.plot(e-ef,dos)\n",
    "plt.axvline(color='k', linestyle='--')\n",
    "plt.xlabel('$E - E_f$ (eV)')\n",
    "plt.ylabel('DOS')"
   ]
  },
  {
   "cell_type": "code",
   "execution_count": null,
   "id": "e911c8b7-a26e-498d-9932-618376df8087",
   "metadata": {
    "id": "e911c8b7-a26e-498d-9932-618376df8087"
   },
   "outputs": [],
   "source": [
    "eqstruc.calc.write('Alfcceq.gpw')"
   ]
  },
  {
   "cell_type": "code",
   "execution_count": null,
   "id": "c193892f-900c-46a1-ba98-0a4b81bc7693",
   "metadata": {
    "id": "c193892f-900c-46a1-ba98-0a4b81bc7693"
   },
   "outputs": [],
   "source": [
    "bscalc = GPAW('Alfcceq.gpw').fixed_density(nbands=20, symmetry='off', txt='bs.txt', kpts={'path': 'GXMGRX', 'npoints': 60}, convergence={'bands': 8})"
   ]
  },
  {
   "cell_type": "code",
   "execution_count": null,
   "id": "352cb273-d094-4b32-920d-44828b55f095",
   "metadata": {
    "id": "352cb273-d094-4b32-920d-44828b55f095"
   },
   "outputs": [],
   "source": [
    "bs = bscalc.band_structure()"
   ]
  },
  {
   "cell_type": "code",
   "execution_count": null,
   "id": "39460176-4486-4031-979f-a7cdc495235b",
   "metadata": {
    "id": "39460176-4486-4031-979f-a7cdc495235b"
   },
   "outputs": [],
   "source": [
    "bs = bs.subtract_reference()"
   ]
  },
  {
   "cell_type": "code",
   "execution_count": null,
   "id": "6373116b-2ebf-4c68-b6c3-176d9c27455e",
   "metadata": {
    "id": "6373116b-2ebf-4c68-b6c3-176d9c27455e",
    "outputId": "6ebe9648-933d-4942-e09c-5fa7d8aaccd1"
   },
   "outputs": [],
   "source": [
    "ax = bs.plot(emin=-12, emax=5)\n",
    "ax.set_ylabel('$E-E_f$ (eV)')"
   ]
  },
  {
   "cell_type": "code",
   "execution_count": null,
   "id": "9a32a9d7-fda2-4eaa-937f-a6b23af62e49",
   "metadata": {
    "id": "9a32a9d7-fda2-4eaa-937f-a6b23af62e49"
   },
   "outputs": [],
   "source": []
  },
  {
   "cell_type": "code",
   "execution_count": null,
   "id": "8b47f0b3-940c-4ee9-b9c3-b0b015ba3ed6",
   "metadata": {
    "id": "8b47f0b3-940c-4ee9-b9c3-b0b015ba3ed6"
   },
   "outputs": [],
   "source": []
  }
 ],
 "metadata": {
  "colab": {
   "name": "Copia de DFT-DefectosSUbstitucionales.ipynb",
   "provenance": [
    {
     "file_id": "https://github.com/cucaszuban/2022_Ingenieria/blob/main/EjemplosEnClase/DFT/DFT-DefectosSUbstitucionales.ipynb",
     "timestamp": 1656872827402
    }
   ]
  },
  "kernelspec": {
   "display_name": "Python 3 (ipykernel)",
   "language": "python",
   "name": "python3"
  },
  "language_info": {
   "codemirror_mode": {
    "name": "ipython",
    "version": 3
   },
   "file_extension": ".py",
   "mimetype": "text/x-python",
   "name": "python",
   "nbconvert_exporter": "python",
   "pygments_lexer": "ipython3",
   "version": "3.9.12"
  },
  "widgets": {
   "application/vnd.jupyter.widget-state+json": {
    "064d220ff42f487c946f156f980d3496": {
     "model_module": "@jupyter-widgets/base",
     "model_module_version": "1.2.0",
     "model_name": "LayoutModel",
     "state": {
      "_model_module": "@jupyter-widgets/base",
      "_model_module_version": "1.2.0",
      "_model_name": "LayoutModel",
      "_view_count": null,
      "_view_module": "@jupyter-widgets/base",
      "_view_module_version": "1.2.0",
      "_view_name": "LayoutView",
      "align_content": null,
      "align_items": null,
      "align_self": null,
      "border": null,
      "bottom": null,
      "display": null,
      "flex": null,
      "flex_flow": null,
      "grid_area": null,
      "grid_auto_columns": null,
      "grid_auto_flow": null,
      "grid_auto_rows": null,
      "grid_column": null,
      "grid_gap": null,
      "grid_row": null,
      "grid_template_areas": null,
      "grid_template_columns": null,
      "grid_template_rows": null,
      "height": null,
      "justify_content": null,
      "justify_items": null,
      "left": null,
      "margin": null,
      "max_height": null,
      "max_width": null,
      "min_height": null,
      "min_width": null,
      "object_fit": null,
      "object_position": null,
      "order": null,
      "overflow": null,
      "overflow_x": null,
      "overflow_y": null,
      "padding": null,
      "right": null,
      "top": null,
      "visibility": null,
      "width": null
     }
    },
    "0671a923c1fb4462b7930d54c0d310a3": {
     "model_module": "@jupyter-widgets/base",
     "model_module_version": "1.2.0",
     "model_name": "LayoutModel",
     "state": {
      "_model_module": "@jupyter-widgets/base",
      "_model_module_version": "1.2.0",
      "_model_name": "LayoutModel",
      "_view_count": null,
      "_view_module": "@jupyter-widgets/base",
      "_view_module_version": "1.2.0",
      "_view_name": "LayoutView",
      "align_content": null,
      "align_items": null,
      "align_self": null,
      "border": null,
      "bottom": null,
      "display": null,
      "flex": null,
      "flex_flow": null,
      "grid_area": null,
      "grid_auto_columns": null,
      "grid_auto_flow": null,
      "grid_auto_rows": null,
      "grid_column": null,
      "grid_gap": null,
      "grid_row": null,
      "grid_template_areas": null,
      "grid_template_columns": null,
      "grid_template_rows": null,
      "height": null,
      "justify_content": null,
      "justify_items": null,
      "left": null,
      "margin": null,
      "max_height": null,
      "max_width": null,
      "min_height": null,
      "min_width": null,
      "object_fit": null,
      "object_position": null,
      "order": null,
      "overflow": null,
      "overflow_x": null,
      "overflow_y": null,
      "padding": null,
      "right": null,
      "top": null,
      "visibility": null,
      "width": null
     }
    },
    "070b191c00994ab89caad63f2784573c": {
     "model_module": "@jupyter-widgets/controls",
     "model_module_version": "1.5.0",
     "model_name": "DescriptionStyleModel",
     "state": {
      "_model_module": "@jupyter-widgets/controls",
      "_model_module_version": "1.5.0",
      "_model_name": "DescriptionStyleModel",
      "_view_count": null,
      "_view_module": "@jupyter-widgets/base",
      "_view_module_version": "1.2.0",
      "_view_name": "StyleView",
      "description_width": ""
     }
    },
    "0e3429ac86fd4fd19034280776154b21": {
     "model_module": "@jupyter-widgets/base",
     "model_module_version": "1.2.0",
     "model_name": "LayoutModel",
     "state": {
      "_model_module": "@jupyter-widgets/base",
      "_model_module_version": "1.2.0",
      "_model_name": "LayoutModel",
      "_view_count": null,
      "_view_module": "@jupyter-widgets/base",
      "_view_module_version": "1.2.0",
      "_view_name": "LayoutView",
      "align_content": null,
      "align_items": null,
      "align_self": null,
      "border": null,
      "bottom": null,
      "display": null,
      "flex": null,
      "flex_flow": null,
      "grid_area": null,
      "grid_auto_columns": null,
      "grid_auto_flow": null,
      "grid_auto_rows": null,
      "grid_column": null,
      "grid_gap": null,
      "grid_row": null,
      "grid_template_areas": null,
      "grid_template_columns": null,
      "grid_template_rows": null,
      "height": null,
      "justify_content": null,
      "justify_items": null,
      "left": null,
      "margin": null,
      "max_height": null,
      "max_width": null,
      "min_height": null,
      "min_width": null,
      "object_fit": null,
      "object_position": null,
      "order": null,
      "overflow": null,
      "overflow_x": null,
      "overflow_y": null,
      "padding": null,
      "right": null,
      "top": null,
      "visibility": null,
      "width": null
     }
    },
    "118311d316044b8a83e2ca49b4cb4af6": {
     "model_module": "@jupyter-widgets/controls",
     "model_module_version": "1.5.0",
     "model_name": "ProgressStyleModel",
     "state": {
      "_model_module": "@jupyter-widgets/controls",
      "_model_module_version": "1.5.0",
      "_model_name": "ProgressStyleModel",
      "_view_count": null,
      "_view_module": "@jupyter-widgets/base",
      "_view_module_version": "1.2.0",
      "_view_name": "StyleView",
      "bar_color": null,
      "description_width": ""
     }
    },
    "12004a4946a9415896d1f66956c4b3f2": {
     "model_module": "@jupyter-widgets/controls",
     "model_module_version": "1.5.0",
     "model_name": "HTMLModel",
     "state": {
      "_dom_classes": [],
      "_model_module": "@jupyter-widgets/controls",
      "_model_module_version": "1.5.0",
      "_model_name": "HTMLModel",
      "_view_count": null,
      "_view_module": "@jupyter-widgets/controls",
      "_view_module_version": "1.5.0",
      "_view_name": "HTMLView",
      "description": "",
      "description_tooltip": null,
      "layout": "IPY_MODEL_80a65e0ed1204bc09f2b6b12f4691ad2",
      "placeholder": "​",
      "style": "IPY_MODEL_9f80d312a12945d9a291564ee47541a9",
      "value": "100%"
     }
    },
    "1672cabba17a4b6ca955b635bd3e9432": {
     "model_module": "@jupyter-widgets/controls",
     "model_module_version": "1.5.0",
     "model_name": "HBoxModel",
     "state": {
      "_dom_classes": [],
      "_model_module": "@jupyter-widgets/controls",
      "_model_module_version": "1.5.0",
      "_model_name": "HBoxModel",
      "_view_count": null,
      "_view_module": "@jupyter-widgets/controls",
      "_view_module_version": "1.5.0",
      "_view_name": "HBoxView",
      "box_style": "",
      "children": [
       "IPY_MODEL_ae5a0213b72d4fcc9280d3c706082146",
       "IPY_MODEL_23b9fc2a7547450c9639ed7e63a6a9a2",
       "IPY_MODEL_5e996d257e414f59bb7d9f76af4c9317"
      ],
      "layout": "IPY_MODEL_4b43e08893cb4e7b981d6b9211175945"
     }
    },
    "23b9fc2a7547450c9639ed7e63a6a9a2": {
     "model_module": "@jupyter-widgets/controls",
     "model_module_version": "1.5.0",
     "model_name": "FloatProgressModel",
     "state": {
      "_dom_classes": [],
      "_model_module": "@jupyter-widgets/controls",
      "_model_module_version": "1.5.0",
      "_model_name": "FloatProgressModel",
      "_view_count": null,
      "_view_module": "@jupyter-widgets/controls",
      "_view_module_version": "1.5.0",
      "_view_name": "ProgressView",
      "bar_style": "success",
      "description": "",
      "description_tooltip": null,
      "layout": "IPY_MODEL_064d220ff42f487c946f156f980d3496",
      "max": 9,
      "min": 0,
      "orientation": "horizontal",
      "style": "IPY_MODEL_acbaa910b1c04463877c93aa2d67eab9",
      "value": 9
     }
    },
    "277a5ddbfdd346d696776d85ab29a7e3": {
     "model_module": "@jupyter-widgets/controls",
     "model_module_version": "1.5.0",
     "model_name": "HBoxModel",
     "state": {
      "_dom_classes": [],
      "_model_module": "@jupyter-widgets/controls",
      "_model_module_version": "1.5.0",
      "_model_name": "HBoxModel",
      "_view_count": null,
      "_view_module": "@jupyter-widgets/controls",
      "_view_module_version": "1.5.0",
      "_view_name": "HBoxView",
      "box_style": "",
      "children": [
       "IPY_MODEL_e4076d79954941aca311f5d1f605c05a",
       "IPY_MODEL_a15a651421ed4a01860337057b5e9c0b",
       "IPY_MODEL_69c10f8a24b04ebd942776e5b2fcba03"
      ],
      "layout": "IPY_MODEL_c8f02b77d65a404d9e5eebad9ed58a26"
     }
    },
    "2bcf9658215742f69b2624a5847047c3": {
     "model_module": "@jupyter-widgets/controls",
     "model_module_version": "1.5.0",
     "model_name": "FloatProgressModel",
     "state": {
      "_dom_classes": [],
      "_model_module": "@jupyter-widgets/controls",
      "_model_module_version": "1.5.0",
      "_model_name": "FloatProgressModel",
      "_view_count": null,
      "_view_module": "@jupyter-widgets/controls",
      "_view_module_version": "1.5.0",
      "_view_name": "ProgressView",
      "bar_style": "success",
      "description": "",
      "description_tooltip": null,
      "layout": "IPY_MODEL_fcd499ba024f4c9fa3f00ead9dd2adfa",
      "max": 4,
      "min": 0,
      "orientation": "horizontal",
      "style": "IPY_MODEL_5756cfd63f704387aaffb6bed4fc899d",
      "value": 4
     }
    },
    "2fdf1dbe11aa42ef87a359471f01c018": {
     "model_module": "@jupyter-widgets/controls",
     "model_module_version": "1.5.0",
     "model_name": "HTMLModel",
     "state": {
      "_dom_classes": [],
      "_model_module": "@jupyter-widgets/controls",
      "_model_module_version": "1.5.0",
      "_model_name": "HTMLModel",
      "_view_count": null,
      "_view_module": "@jupyter-widgets/controls",
      "_view_module_version": "1.5.0",
      "_view_name": "HTMLView",
      "description": "",
      "description_tooltip": null,
      "layout": "IPY_MODEL_5d200974c4d74c70a456454ee32abddd",
      "placeholder": "​",
      "style": "IPY_MODEL_070b191c00994ab89caad63f2784573c",
      "value": " 4/4 [06:52&lt;00:00, 112.78s/it]"
     }
    },
    "31d85ad851ad421d81904f034e0f5208": {
     "model_module": "@jupyter-widgets/controls",
     "model_module_version": "1.5.0",
     "model_name": "DescriptionStyleModel",
     "state": {
      "_model_module": "@jupyter-widgets/controls",
      "_model_module_version": "1.5.0",
      "_model_name": "DescriptionStyleModel",
      "_view_count": null,
      "_view_module": "@jupyter-widgets/base",
      "_view_module_version": "1.2.0",
      "_view_name": "StyleView",
      "description_width": ""
     }
    },
    "3361cebc8b75499c8c8cef1f77d2eb3a": {
     "model_module": "@jupyter-widgets/controls",
     "model_module_version": "1.5.0",
     "model_name": "DescriptionStyleModel",
     "state": {
      "_model_module": "@jupyter-widgets/controls",
      "_model_module_version": "1.5.0",
      "_model_name": "DescriptionStyleModel",
      "_view_count": null,
      "_view_module": "@jupyter-widgets/base",
      "_view_module_version": "1.2.0",
      "_view_name": "StyleView",
      "description_width": ""
     }
    },
    "33730e19533944a4a822d8813b7eb802": {
     "model_module": "@jupyter-widgets/controls",
     "model_module_version": "1.5.0",
     "model_name": "FloatProgressModel",
     "state": {
      "_dom_classes": [],
      "_model_module": "@jupyter-widgets/controls",
      "_model_module_version": "1.5.0",
      "_model_name": "FloatProgressModel",
      "_view_count": null,
      "_view_module": "@jupyter-widgets/controls",
      "_view_module_version": "1.5.0",
      "_view_name": "ProgressView",
      "bar_style": "success",
      "description": "",
      "description_tooltip": null,
      "layout": "IPY_MODEL_aebb1765bab447bbb08b2227ba9526b1",
      "max": 4,
      "min": 0,
      "orientation": "horizontal",
      "style": "IPY_MODEL_3f47610edbe24b3291b63d48a45f8228",
      "value": 4
     }
    },
    "3d5efed98bd347fd86d9222bf3255d20": {
     "model_module": "@jupyter-widgets/base",
     "model_module_version": "1.2.0",
     "model_name": "LayoutModel",
     "state": {
      "_model_module": "@jupyter-widgets/base",
      "_model_module_version": "1.2.0",
      "_model_name": "LayoutModel",
      "_view_count": null,
      "_view_module": "@jupyter-widgets/base",
      "_view_module_version": "1.2.0",
      "_view_name": "LayoutView",
      "align_content": null,
      "align_items": null,
      "align_self": null,
      "border": null,
      "bottom": null,
      "display": null,
      "flex": null,
      "flex_flow": null,
      "grid_area": null,
      "grid_auto_columns": null,
      "grid_auto_flow": null,
      "grid_auto_rows": null,
      "grid_column": null,
      "grid_gap": null,
      "grid_row": null,
      "grid_template_areas": null,
      "grid_template_columns": null,
      "grid_template_rows": null,
      "height": null,
      "justify_content": null,
      "justify_items": null,
      "left": null,
      "margin": null,
      "max_height": null,
      "max_width": null,
      "min_height": null,
      "min_width": null,
      "object_fit": null,
      "object_position": null,
      "order": null,
      "overflow": null,
      "overflow_x": null,
      "overflow_y": null,
      "padding": null,
      "right": null,
      "top": null,
      "visibility": null,
      "width": null
     }
    },
    "3e679185c2274ee9a3df6408cf6d6149": {
     "model_module": "@jupyter-widgets/base",
     "model_module_version": "1.2.0",
     "model_name": "LayoutModel",
     "state": {
      "_model_module": "@jupyter-widgets/base",
      "_model_module_version": "1.2.0",
      "_model_name": "LayoutModel",
      "_view_count": null,
      "_view_module": "@jupyter-widgets/base",
      "_view_module_version": "1.2.0",
      "_view_name": "LayoutView",
      "align_content": null,
      "align_items": null,
      "align_self": null,
      "border": null,
      "bottom": null,
      "display": null,
      "flex": null,
      "flex_flow": null,
      "grid_area": null,
      "grid_auto_columns": null,
      "grid_auto_flow": null,
      "grid_auto_rows": null,
      "grid_column": null,
      "grid_gap": null,
      "grid_row": null,
      "grid_template_areas": null,
      "grid_template_columns": null,
      "grid_template_rows": null,
      "height": null,
      "justify_content": null,
      "justify_items": null,
      "left": null,
      "margin": null,
      "max_height": null,
      "max_width": null,
      "min_height": null,
      "min_width": null,
      "object_fit": null,
      "object_position": null,
      "order": null,
      "overflow": null,
      "overflow_x": null,
      "overflow_y": null,
      "padding": null,
      "right": null,
      "top": null,
      "visibility": null,
      "width": null
     }
    },
    "3f47610edbe24b3291b63d48a45f8228": {
     "model_module": "@jupyter-widgets/controls",
     "model_module_version": "1.5.0",
     "model_name": "ProgressStyleModel",
     "state": {
      "_model_module": "@jupyter-widgets/controls",
      "_model_module_version": "1.5.0",
      "_model_name": "ProgressStyleModel",
      "_view_count": null,
      "_view_module": "@jupyter-widgets/base",
      "_view_module_version": "1.2.0",
      "_view_name": "StyleView",
      "bar_color": null,
      "description_width": ""
     }
    },
    "3f98a9e24d414c7ab61669bc63f4cebf": {
     "model_module": "@jupyter-widgets/base",
     "model_module_version": "1.2.0",
     "model_name": "LayoutModel",
     "state": {
      "_model_module": "@jupyter-widgets/base",
      "_model_module_version": "1.2.0",
      "_model_name": "LayoutModel",
      "_view_count": null,
      "_view_module": "@jupyter-widgets/base",
      "_view_module_version": "1.2.0",
      "_view_name": "LayoutView",
      "align_content": null,
      "align_items": null,
      "align_self": null,
      "border": null,
      "bottom": null,
      "display": null,
      "flex": null,
      "flex_flow": null,
      "grid_area": null,
      "grid_auto_columns": null,
      "grid_auto_flow": null,
      "grid_auto_rows": null,
      "grid_column": null,
      "grid_gap": null,
      "grid_row": null,
      "grid_template_areas": null,
      "grid_template_columns": null,
      "grid_template_rows": null,
      "height": null,
      "justify_content": null,
      "justify_items": null,
      "left": null,
      "margin": null,
      "max_height": null,
      "max_width": null,
      "min_height": null,
      "min_width": null,
      "object_fit": null,
      "object_position": null,
      "order": null,
      "overflow": null,
      "overflow_x": null,
      "overflow_y": null,
      "padding": null,
      "right": null,
      "top": null,
      "visibility": null,
      "width": null
     }
    },
    "42224ee6fc11447f9ad9b550a70c4969": {
     "model_module": "@jupyter-widgets/base",
     "model_module_version": "1.2.0",
     "model_name": "LayoutModel",
     "state": {
      "_model_module": "@jupyter-widgets/base",
      "_model_module_version": "1.2.0",
      "_model_name": "LayoutModel",
      "_view_count": null,
      "_view_module": "@jupyter-widgets/base",
      "_view_module_version": "1.2.0",
      "_view_name": "LayoutView",
      "align_content": null,
      "align_items": null,
      "align_self": null,
      "border": null,
      "bottom": null,
      "display": null,
      "flex": null,
      "flex_flow": null,
      "grid_area": null,
      "grid_auto_columns": null,
      "grid_auto_flow": null,
      "grid_auto_rows": null,
      "grid_column": null,
      "grid_gap": null,
      "grid_row": null,
      "grid_template_areas": null,
      "grid_template_columns": null,
      "grid_template_rows": null,
      "height": null,
      "justify_content": null,
      "justify_items": null,
      "left": null,
      "margin": null,
      "max_height": null,
      "max_width": null,
      "min_height": null,
      "min_width": null,
      "object_fit": null,
      "object_position": null,
      "order": null,
      "overflow": null,
      "overflow_x": null,
      "overflow_y": null,
      "padding": null,
      "right": null,
      "top": null,
      "visibility": null,
      "width": null
     }
    },
    "42ba4d6ffee84701a4d5d90d0a63f2f3": {
     "model_module": "@jupyter-widgets/controls",
     "model_module_version": "1.5.0",
     "model_name": "DescriptionStyleModel",
     "state": {
      "_model_module": "@jupyter-widgets/controls",
      "_model_module_version": "1.5.0",
      "_model_name": "DescriptionStyleModel",
      "_view_count": null,
      "_view_module": "@jupyter-widgets/base",
      "_view_module_version": "1.2.0",
      "_view_name": "StyleView",
      "description_width": ""
     }
    },
    "4b1fac9ceb674c42a7445978d3ce4008": {
     "model_module": "@jupyter-widgets/controls",
     "model_module_version": "1.5.0",
     "model_name": "HTMLModel",
     "state": {
      "_dom_classes": [],
      "_model_module": "@jupyter-widgets/controls",
      "_model_module_version": "1.5.0",
      "_model_name": "HTMLModel",
      "_view_count": null,
      "_view_module": "@jupyter-widgets/controls",
      "_view_module_version": "1.5.0",
      "_view_name": "HTMLView",
      "description": "",
      "description_tooltip": null,
      "layout": "IPY_MODEL_3f98a9e24d414c7ab61669bc63f4cebf",
      "placeholder": "​",
      "style": "IPY_MODEL_31d85ad851ad421d81904f034e0f5208",
      "value": "  0%"
     }
    },
    "4b43e08893cb4e7b981d6b9211175945": {
     "model_module": "@jupyter-widgets/base",
     "model_module_version": "1.2.0",
     "model_name": "LayoutModel",
     "state": {
      "_model_module": "@jupyter-widgets/base",
      "_model_module_version": "1.2.0",
      "_model_name": "LayoutModel",
      "_view_count": null,
      "_view_module": "@jupyter-widgets/base",
      "_view_module_version": "1.2.0",
      "_view_name": "LayoutView",
      "align_content": null,
      "align_items": null,
      "align_self": null,
      "border": null,
      "bottom": null,
      "display": null,
      "flex": null,
      "flex_flow": null,
      "grid_area": null,
      "grid_auto_columns": null,
      "grid_auto_flow": null,
      "grid_auto_rows": null,
      "grid_column": null,
      "grid_gap": null,
      "grid_row": null,
      "grid_template_areas": null,
      "grid_template_columns": null,
      "grid_template_rows": null,
      "height": null,
      "justify_content": null,
      "justify_items": null,
      "left": null,
      "margin": null,
      "max_height": null,
      "max_width": null,
      "min_height": null,
      "min_width": null,
      "object_fit": null,
      "object_position": null,
      "order": null,
      "overflow": null,
      "overflow_x": null,
      "overflow_y": null,
      "padding": null,
      "right": null,
      "top": null,
      "visibility": null,
      "width": null
     }
    },
    "51fb30f7992a416bb65d0985ad3f923f": {
     "model_module": "@jupyter-widgets/controls",
     "model_module_version": "1.5.0",
     "model_name": "HTMLModel",
     "state": {
      "_dom_classes": [],
      "_model_module": "@jupyter-widgets/controls",
      "_model_module_version": "1.5.0",
      "_model_name": "HTMLModel",
      "_view_count": null,
      "_view_module": "@jupyter-widgets/controls",
      "_view_module_version": "1.5.0",
      "_view_name": "HTMLView",
      "description": "",
      "description_tooltip": null,
      "layout": "IPY_MODEL_91d2219ad4fe44e69a82de7bb20a98ae",
      "placeholder": "​",
      "style": "IPY_MODEL_3361cebc8b75499c8c8cef1f77d2eb3a",
      "value": " 4/4 [06:40&lt;00:00, 112.29s/it]"
     }
    },
    "5756cfd63f704387aaffb6bed4fc899d": {
     "model_module": "@jupyter-widgets/controls",
     "model_module_version": "1.5.0",
     "model_name": "ProgressStyleModel",
     "state": {
      "_model_module": "@jupyter-widgets/controls",
      "_model_module_version": "1.5.0",
      "_model_name": "ProgressStyleModel",
      "_view_count": null,
      "_view_module": "@jupyter-widgets/base",
      "_view_module_version": "1.2.0",
      "_view_name": "StyleView",
      "bar_color": null,
      "description_width": ""
     }
    },
    "5c4fe13c024342089e58fc8a70e3a4c5": {
     "model_module": "@jupyter-widgets/base",
     "model_module_version": "1.2.0",
     "model_name": "LayoutModel",
     "state": {
      "_model_module": "@jupyter-widgets/base",
      "_model_module_version": "1.2.0",
      "_model_name": "LayoutModel",
      "_view_count": null,
      "_view_module": "@jupyter-widgets/base",
      "_view_module_version": "1.2.0",
      "_view_name": "LayoutView",
      "align_content": null,
      "align_items": null,
      "align_self": null,
      "border": null,
      "bottom": null,
      "display": null,
      "flex": null,
      "flex_flow": null,
      "grid_area": null,
      "grid_auto_columns": null,
      "grid_auto_flow": null,
      "grid_auto_rows": null,
      "grid_column": null,
      "grid_gap": null,
      "grid_row": null,
      "grid_template_areas": null,
      "grid_template_columns": null,
      "grid_template_rows": null,
      "height": null,
      "justify_content": null,
      "justify_items": null,
      "left": null,
      "margin": null,
      "max_height": null,
      "max_width": null,
      "min_height": null,
      "min_width": null,
      "object_fit": null,
      "object_position": null,
      "order": null,
      "overflow": null,
      "overflow_x": null,
      "overflow_y": null,
      "padding": null,
      "right": null,
      "top": null,
      "visibility": null,
      "width": null
     }
    },
    "5d200974c4d74c70a456454ee32abddd": {
     "model_module": "@jupyter-widgets/base",
     "model_module_version": "1.2.0",
     "model_name": "LayoutModel",
     "state": {
      "_model_module": "@jupyter-widgets/base",
      "_model_module_version": "1.2.0",
      "_model_name": "LayoutModel",
      "_view_count": null,
      "_view_module": "@jupyter-widgets/base",
      "_view_module_version": "1.2.0",
      "_view_name": "LayoutView",
      "align_content": null,
      "align_items": null,
      "align_self": null,
      "border": null,
      "bottom": null,
      "display": null,
      "flex": null,
      "flex_flow": null,
      "grid_area": null,
      "grid_auto_columns": null,
      "grid_auto_flow": null,
      "grid_auto_rows": null,
      "grid_column": null,
      "grid_gap": null,
      "grid_row": null,
      "grid_template_areas": null,
      "grid_template_columns": null,
      "grid_template_rows": null,
      "height": null,
      "justify_content": null,
      "justify_items": null,
      "left": null,
      "margin": null,
      "max_height": null,
      "max_width": null,
      "min_height": null,
      "min_width": null,
      "object_fit": null,
      "object_position": null,
      "order": null,
      "overflow": null,
      "overflow_x": null,
      "overflow_y": null,
      "padding": null,
      "right": null,
      "top": null,
      "visibility": null,
      "width": null
     }
    },
    "5e996d257e414f59bb7d9f76af4c9317": {
     "model_module": "@jupyter-widgets/controls",
     "model_module_version": "1.5.0",
     "model_name": "HTMLModel",
     "state": {
      "_dom_classes": [],
      "_model_module": "@jupyter-widgets/controls",
      "_model_module_version": "1.5.0",
      "_model_name": "HTMLModel",
      "_view_count": null,
      "_view_module": "@jupyter-widgets/controls",
      "_view_module_version": "1.5.0",
      "_view_name": "HTMLView",
      "description": "",
      "description_tooltip": null,
      "layout": "IPY_MODEL_fbbe9b5a0f7f434fa6e127cd6155f930",
      "placeholder": "​",
      "style": "IPY_MODEL_7724b3590b0e40a397453b96f16ae3a4",
      "value": " 9/9 [14:15&lt;00:00, 160.20s/it]"
     }
    },
    "5fa998bd19ec4f578ba405257c82cc62": {
     "model_module": "@jupyter-widgets/controls",
     "model_module_version": "1.5.0",
     "model_name": "HBoxModel",
     "state": {
      "_dom_classes": [],
      "_model_module": "@jupyter-widgets/controls",
      "_model_module_version": "1.5.0",
      "_model_name": "HBoxModel",
      "_view_count": null,
      "_view_module": "@jupyter-widgets/controls",
      "_view_module_version": "1.5.0",
      "_view_name": "HBoxView",
      "box_style": "",
      "children": [
       "IPY_MODEL_bc50f8aa9a714221b33c91f70c5b3b1e",
       "IPY_MODEL_33730e19533944a4a822d8813b7eb802",
       "IPY_MODEL_2fdf1dbe11aa42ef87a359471f01c018"
      ],
      "layout": "IPY_MODEL_62752b6e3a00423da28379c62adfc633"
     }
    },
    "62752b6e3a00423da28379c62adfc633": {
     "model_module": "@jupyter-widgets/base",
     "model_module_version": "1.2.0",
     "model_name": "LayoutModel",
     "state": {
      "_model_module": "@jupyter-widgets/base",
      "_model_module_version": "1.2.0",
      "_model_name": "LayoutModel",
      "_view_count": null,
      "_view_module": "@jupyter-widgets/base",
      "_view_module_version": "1.2.0",
      "_view_name": "LayoutView",
      "align_content": null,
      "align_items": null,
      "align_self": null,
      "border": null,
      "bottom": null,
      "display": null,
      "flex": null,
      "flex_flow": null,
      "grid_area": null,
      "grid_auto_columns": null,
      "grid_auto_flow": null,
      "grid_auto_rows": null,
      "grid_column": null,
      "grid_gap": null,
      "grid_row": null,
      "grid_template_areas": null,
      "grid_template_columns": null,
      "grid_template_rows": null,
      "height": null,
      "justify_content": null,
      "justify_items": null,
      "left": null,
      "margin": null,
      "max_height": null,
      "max_width": null,
      "min_height": null,
      "min_width": null,
      "object_fit": null,
      "object_position": null,
      "order": null,
      "overflow": null,
      "overflow_x": null,
      "overflow_y": null,
      "padding": null,
      "right": null,
      "top": null,
      "visibility": null,
      "width": null
     }
    },
    "63f4d163311c431384f884126f41a46c": {
     "model_module": "@jupyter-widgets/controls",
     "model_module_version": "1.5.0",
     "model_name": "FloatProgressModel",
     "state": {
      "_dom_classes": [],
      "_model_module": "@jupyter-widgets/controls",
      "_model_module_version": "1.5.0",
      "_model_name": "FloatProgressModel",
      "_view_count": null,
      "_view_module": "@jupyter-widgets/controls",
      "_view_module_version": "1.5.0",
      "_view_name": "ProgressView",
      "bar_style": "danger",
      "description": "",
      "description_tooltip": null,
      "layout": "IPY_MODEL_0671a923c1fb4462b7930d54c0d310a3",
      "max": 10,
      "min": 0,
      "orientation": "horizontal",
      "style": "IPY_MODEL_118311d316044b8a83e2ca49b4cb4af6",
      "value": 0
     }
    },
    "69c10f8a24b04ebd942776e5b2fcba03": {
     "model_module": "@jupyter-widgets/controls",
     "model_module_version": "1.5.0",
     "model_name": "HTMLModel",
     "state": {
      "_dom_classes": [],
      "_model_module": "@jupyter-widgets/controls",
      "_model_module_version": "1.5.0",
      "_model_name": "HTMLModel",
      "_view_count": null,
      "_view_module": "@jupyter-widgets/controls",
      "_view_module_version": "1.5.0",
      "_view_name": "HTMLView",
      "description": "",
      "description_tooltip": null,
      "layout": "IPY_MODEL_5c4fe13c024342089e58fc8a70e3a4c5",
      "placeholder": "​",
      "style": "IPY_MODEL_42ba4d6ffee84701a4d5d90d0a63f2f3",
      "value": " 9/9 [11:19&lt;00:00, 122.67s/it]"
     }
    },
    "6a3d8aec82314231a648ba53f39cfd42": {
     "model_module": "@jupyter-widgets/base",
     "model_module_version": "1.2.0",
     "model_name": "LayoutModel",
     "state": {
      "_model_module": "@jupyter-widgets/base",
      "_model_module_version": "1.2.0",
      "_model_name": "LayoutModel",
      "_view_count": null,
      "_view_module": "@jupyter-widgets/base",
      "_view_module_version": "1.2.0",
      "_view_name": "LayoutView",
      "align_content": null,
      "align_items": null,
      "align_self": null,
      "border": null,
      "bottom": null,
      "display": null,
      "flex": null,
      "flex_flow": null,
      "grid_area": null,
      "grid_auto_columns": null,
      "grid_auto_flow": null,
      "grid_auto_rows": null,
      "grid_column": null,
      "grid_gap": null,
      "grid_row": null,
      "grid_template_areas": null,
      "grid_template_columns": null,
      "grid_template_rows": null,
      "height": null,
      "justify_content": null,
      "justify_items": null,
      "left": null,
      "margin": null,
      "max_height": null,
      "max_width": null,
      "min_height": null,
      "min_width": null,
      "object_fit": null,
      "object_position": null,
      "order": null,
      "overflow": null,
      "overflow_x": null,
      "overflow_y": null,
      "padding": null,
      "right": null,
      "top": null,
      "visibility": null,
      "width": null
     }
    },
    "74ea7d81c60748b7854377f00ec86c14": {
     "model_module": "@jupyter-widgets/controls",
     "model_module_version": "1.5.0",
     "model_name": "HBoxModel",
     "state": {
      "_dom_classes": [],
      "_model_module": "@jupyter-widgets/controls",
      "_model_module_version": "1.5.0",
      "_model_name": "HBoxModel",
      "_view_count": null,
      "_view_module": "@jupyter-widgets/controls",
      "_view_module_version": "1.5.0",
      "_view_name": "HBoxView",
      "box_style": "",
      "children": [
       "IPY_MODEL_4b1fac9ceb674c42a7445978d3ce4008",
       "IPY_MODEL_63f4d163311c431384f884126f41a46c",
       "IPY_MODEL_e012801f6edf490e8585bd432df2a31a"
      ],
      "layout": "IPY_MODEL_3d5efed98bd347fd86d9222bf3255d20"
     }
    },
    "7724b3590b0e40a397453b96f16ae3a4": {
     "model_module": "@jupyter-widgets/controls",
     "model_module_version": "1.5.0",
     "model_name": "DescriptionStyleModel",
     "state": {
      "_model_module": "@jupyter-widgets/controls",
      "_model_module_version": "1.5.0",
      "_model_name": "DescriptionStyleModel",
      "_view_count": null,
      "_view_module": "@jupyter-widgets/base",
      "_view_module_version": "1.2.0",
      "_view_name": "StyleView",
      "description_width": ""
     }
    },
    "7ffd0baa89e140a7aeb7b1723e771dc0": {
     "model_module": "@jupyter-widgets/controls",
     "model_module_version": "1.5.0",
     "model_name": "HBoxModel",
     "state": {
      "_dom_classes": [],
      "_model_module": "@jupyter-widgets/controls",
      "_model_module_version": "1.5.0",
      "_model_name": "HBoxModel",
      "_view_count": null,
      "_view_module": "@jupyter-widgets/controls",
      "_view_module_version": "1.5.0",
      "_view_name": "HBoxView",
      "box_style": "",
      "children": [
       "IPY_MODEL_12004a4946a9415896d1f66956c4b3f2",
       "IPY_MODEL_2bcf9658215742f69b2624a5847047c3",
       "IPY_MODEL_51fb30f7992a416bb65d0985ad3f923f"
      ],
      "layout": "IPY_MODEL_3e679185c2274ee9a3df6408cf6d6149"
     }
    },
    "80a65e0ed1204bc09f2b6b12f4691ad2": {
     "model_module": "@jupyter-widgets/base",
     "model_module_version": "1.2.0",
     "model_name": "LayoutModel",
     "state": {
      "_model_module": "@jupyter-widgets/base",
      "_model_module_version": "1.2.0",
      "_model_name": "LayoutModel",
      "_view_count": null,
      "_view_module": "@jupyter-widgets/base",
      "_view_module_version": "1.2.0",
      "_view_name": "LayoutView",
      "align_content": null,
      "align_items": null,
      "align_self": null,
      "border": null,
      "bottom": null,
      "display": null,
      "flex": null,
      "flex_flow": null,
      "grid_area": null,
      "grid_auto_columns": null,
      "grid_auto_flow": null,
      "grid_auto_rows": null,
      "grid_column": null,
      "grid_gap": null,
      "grid_row": null,
      "grid_template_areas": null,
      "grid_template_columns": null,
      "grid_template_rows": null,
      "height": null,
      "justify_content": null,
      "justify_items": null,
      "left": null,
      "margin": null,
      "max_height": null,
      "max_width": null,
      "min_height": null,
      "min_width": null,
      "object_fit": null,
      "object_position": null,
      "order": null,
      "overflow": null,
      "overflow_x": null,
      "overflow_y": null,
      "padding": null,
      "right": null,
      "top": null,
      "visibility": null,
      "width": null
     }
    },
    "84ee07f639264ad7aaad15932f42a61d": {
     "model_module": "@jupyter-widgets/base",
     "model_module_version": "1.2.0",
     "model_name": "LayoutModel",
     "state": {
      "_model_module": "@jupyter-widgets/base",
      "_model_module_version": "1.2.0",
      "_model_name": "LayoutModel",
      "_view_count": null,
      "_view_module": "@jupyter-widgets/base",
      "_view_module_version": "1.2.0",
      "_view_name": "LayoutView",
      "align_content": null,
      "align_items": null,
      "align_self": null,
      "border": null,
      "bottom": null,
      "display": null,
      "flex": null,
      "flex_flow": null,
      "grid_area": null,
      "grid_auto_columns": null,
      "grid_auto_flow": null,
      "grid_auto_rows": null,
      "grid_column": null,
      "grid_gap": null,
      "grid_row": null,
      "grid_template_areas": null,
      "grid_template_columns": null,
      "grid_template_rows": null,
      "height": null,
      "justify_content": null,
      "justify_items": null,
      "left": null,
      "margin": null,
      "max_height": null,
      "max_width": null,
      "min_height": null,
      "min_width": null,
      "object_fit": null,
      "object_position": null,
      "order": null,
      "overflow": null,
      "overflow_x": null,
      "overflow_y": null,
      "padding": null,
      "right": null,
      "top": null,
      "visibility": null,
      "width": null
     }
    },
    "91d2219ad4fe44e69a82de7bb20a98ae": {
     "model_module": "@jupyter-widgets/base",
     "model_module_version": "1.2.0",
     "model_name": "LayoutModel",
     "state": {
      "_model_module": "@jupyter-widgets/base",
      "_model_module_version": "1.2.0",
      "_model_name": "LayoutModel",
      "_view_count": null,
      "_view_module": "@jupyter-widgets/base",
      "_view_module_version": "1.2.0",
      "_view_name": "LayoutView",
      "align_content": null,
      "align_items": null,
      "align_self": null,
      "border": null,
      "bottom": null,
      "display": null,
      "flex": null,
      "flex_flow": null,
      "grid_area": null,
      "grid_auto_columns": null,
      "grid_auto_flow": null,
      "grid_auto_rows": null,
      "grid_column": null,
      "grid_gap": null,
      "grid_row": null,
      "grid_template_areas": null,
      "grid_template_columns": null,
      "grid_template_rows": null,
      "height": null,
      "justify_content": null,
      "justify_items": null,
      "left": null,
      "margin": null,
      "max_height": null,
      "max_width": null,
      "min_height": null,
      "min_width": null,
      "object_fit": null,
      "object_position": null,
      "order": null,
      "overflow": null,
      "overflow_x": null,
      "overflow_y": null,
      "padding": null,
      "right": null,
      "top": null,
      "visibility": null,
      "width": null
     }
    },
    "9242a2a8593b4e31a853fb66e4aaf7fa": {
     "model_module": "@jupyter-widgets/controls",
     "model_module_version": "1.5.0",
     "model_name": "DescriptionStyleModel",
     "state": {
      "_model_module": "@jupyter-widgets/controls",
      "_model_module_version": "1.5.0",
      "_model_name": "DescriptionStyleModel",
      "_view_count": null,
      "_view_module": "@jupyter-widgets/base",
      "_view_module_version": "1.2.0",
      "_view_name": "StyleView",
      "description_width": ""
     }
    },
    "9f80d312a12945d9a291564ee47541a9": {
     "model_module": "@jupyter-widgets/controls",
     "model_module_version": "1.5.0",
     "model_name": "DescriptionStyleModel",
     "state": {
      "_model_module": "@jupyter-widgets/controls",
      "_model_module_version": "1.5.0",
      "_model_name": "DescriptionStyleModel",
      "_view_count": null,
      "_view_module": "@jupyter-widgets/base",
      "_view_module_version": "1.2.0",
      "_view_name": "StyleView",
      "description_width": ""
     }
    },
    "a0db97fd7fb74b11b296e88217165ed0": {
     "model_module": "@jupyter-widgets/controls",
     "model_module_version": "1.5.0",
     "model_name": "DescriptionStyleModel",
     "state": {
      "_model_module": "@jupyter-widgets/controls",
      "_model_module_version": "1.5.0",
      "_model_name": "DescriptionStyleModel",
      "_view_count": null,
      "_view_module": "@jupyter-widgets/base",
      "_view_module_version": "1.2.0",
      "_view_name": "StyleView",
      "description_width": ""
     }
    },
    "a15a651421ed4a01860337057b5e9c0b": {
     "model_module": "@jupyter-widgets/controls",
     "model_module_version": "1.5.0",
     "model_name": "FloatProgressModel",
     "state": {
      "_dom_classes": [],
      "_model_module": "@jupyter-widgets/controls",
      "_model_module_version": "1.5.0",
      "_model_name": "FloatProgressModel",
      "_view_count": null,
      "_view_module": "@jupyter-widgets/controls",
      "_view_module_version": "1.5.0",
      "_view_name": "ProgressView",
      "bar_style": "success",
      "description": "",
      "description_tooltip": null,
      "layout": "IPY_MODEL_0e3429ac86fd4fd19034280776154b21",
      "max": 9,
      "min": 0,
      "orientation": "horizontal",
      "style": "IPY_MODEL_d85a53bbc53f4c57ba7e1445d9e5e1dc",
      "value": 9
     }
    },
    "acbaa910b1c04463877c93aa2d67eab9": {
     "model_module": "@jupyter-widgets/controls",
     "model_module_version": "1.5.0",
     "model_name": "ProgressStyleModel",
     "state": {
      "_model_module": "@jupyter-widgets/controls",
      "_model_module_version": "1.5.0",
      "_model_name": "ProgressStyleModel",
      "_view_count": null,
      "_view_module": "@jupyter-widgets/base",
      "_view_module_version": "1.2.0",
      "_view_name": "StyleView",
      "bar_color": null,
      "description_width": ""
     }
    },
    "ae5a0213b72d4fcc9280d3c706082146": {
     "model_module": "@jupyter-widgets/controls",
     "model_module_version": "1.5.0",
     "model_name": "HTMLModel",
     "state": {
      "_dom_classes": [],
      "_model_module": "@jupyter-widgets/controls",
      "_model_module_version": "1.5.0",
      "_model_name": "HTMLModel",
      "_view_count": null,
      "_view_module": "@jupyter-widgets/controls",
      "_view_module_version": "1.5.0",
      "_view_name": "HTMLView",
      "description": "",
      "description_tooltip": null,
      "layout": "IPY_MODEL_c9c42427e9eb456c9b766bffeff67ea6",
      "placeholder": "​",
      "style": "IPY_MODEL_9242a2a8593b4e31a853fb66e4aaf7fa",
      "value": "100%"
     }
    },
    "aebb1765bab447bbb08b2227ba9526b1": {
     "model_module": "@jupyter-widgets/base",
     "model_module_version": "1.2.0",
     "model_name": "LayoutModel",
     "state": {
      "_model_module": "@jupyter-widgets/base",
      "_model_module_version": "1.2.0",
      "_model_name": "LayoutModel",
      "_view_count": null,
      "_view_module": "@jupyter-widgets/base",
      "_view_module_version": "1.2.0",
      "_view_name": "LayoutView",
      "align_content": null,
      "align_items": null,
      "align_self": null,
      "border": null,
      "bottom": null,
      "display": null,
      "flex": null,
      "flex_flow": null,
      "grid_area": null,
      "grid_auto_columns": null,
      "grid_auto_flow": null,
      "grid_auto_rows": null,
      "grid_column": null,
      "grid_gap": null,
      "grid_row": null,
      "grid_template_areas": null,
      "grid_template_columns": null,
      "grid_template_rows": null,
      "height": null,
      "justify_content": null,
      "justify_items": null,
      "left": null,
      "margin": null,
      "max_height": null,
      "max_width": null,
      "min_height": null,
      "min_width": null,
      "object_fit": null,
      "object_position": null,
      "order": null,
      "overflow": null,
      "overflow_x": null,
      "overflow_y": null,
      "padding": null,
      "right": null,
      "top": null,
      "visibility": null,
      "width": null
     }
    },
    "bc50f8aa9a714221b33c91f70c5b3b1e": {
     "model_module": "@jupyter-widgets/controls",
     "model_module_version": "1.5.0",
     "model_name": "HTMLModel",
     "state": {
      "_dom_classes": [],
      "_model_module": "@jupyter-widgets/controls",
      "_model_module_version": "1.5.0",
      "_model_name": "HTMLModel",
      "_view_count": null,
      "_view_module": "@jupyter-widgets/controls",
      "_view_module_version": "1.5.0",
      "_view_name": "HTMLView",
      "description": "",
      "description_tooltip": null,
      "layout": "IPY_MODEL_42224ee6fc11447f9ad9b550a70c4969",
      "placeholder": "​",
      "style": "IPY_MODEL_be437fbc69f64219b684c04848a1e138",
      "value": "100%"
     }
    },
    "be437fbc69f64219b684c04848a1e138": {
     "model_module": "@jupyter-widgets/controls",
     "model_module_version": "1.5.0",
     "model_name": "DescriptionStyleModel",
     "state": {
      "_model_module": "@jupyter-widgets/controls",
      "_model_module_version": "1.5.0",
      "_model_name": "DescriptionStyleModel",
      "_view_count": null,
      "_view_module": "@jupyter-widgets/base",
      "_view_module_version": "1.2.0",
      "_view_name": "StyleView",
      "description_width": ""
     }
    },
    "c8f02b77d65a404d9e5eebad9ed58a26": {
     "model_module": "@jupyter-widgets/base",
     "model_module_version": "1.2.0",
     "model_name": "LayoutModel",
     "state": {
      "_model_module": "@jupyter-widgets/base",
      "_model_module_version": "1.2.0",
      "_model_name": "LayoutModel",
      "_view_count": null,
      "_view_module": "@jupyter-widgets/base",
      "_view_module_version": "1.2.0",
      "_view_name": "LayoutView",
      "align_content": null,
      "align_items": null,
      "align_self": null,
      "border": null,
      "bottom": null,
      "display": null,
      "flex": null,
      "flex_flow": null,
      "grid_area": null,
      "grid_auto_columns": null,
      "grid_auto_flow": null,
      "grid_auto_rows": null,
      "grid_column": null,
      "grid_gap": null,
      "grid_row": null,
      "grid_template_areas": null,
      "grid_template_columns": null,
      "grid_template_rows": null,
      "height": null,
      "justify_content": null,
      "justify_items": null,
      "left": null,
      "margin": null,
      "max_height": null,
      "max_width": null,
      "min_height": null,
      "min_width": null,
      "object_fit": null,
      "object_position": null,
      "order": null,
      "overflow": null,
      "overflow_x": null,
      "overflow_y": null,
      "padding": null,
      "right": null,
      "top": null,
      "visibility": null,
      "width": null
     }
    },
    "c9c42427e9eb456c9b766bffeff67ea6": {
     "model_module": "@jupyter-widgets/base",
     "model_module_version": "1.2.0",
     "model_name": "LayoutModel",
     "state": {
      "_model_module": "@jupyter-widgets/base",
      "_model_module_version": "1.2.0",
      "_model_name": "LayoutModel",
      "_view_count": null,
      "_view_module": "@jupyter-widgets/base",
      "_view_module_version": "1.2.0",
      "_view_name": "LayoutView",
      "align_content": null,
      "align_items": null,
      "align_self": null,
      "border": null,
      "bottom": null,
      "display": null,
      "flex": null,
      "flex_flow": null,
      "grid_area": null,
      "grid_auto_columns": null,
      "grid_auto_flow": null,
      "grid_auto_rows": null,
      "grid_column": null,
      "grid_gap": null,
      "grid_row": null,
      "grid_template_areas": null,
      "grid_template_columns": null,
      "grid_template_rows": null,
      "height": null,
      "justify_content": null,
      "justify_items": null,
      "left": null,
      "margin": null,
      "max_height": null,
      "max_width": null,
      "min_height": null,
      "min_width": null,
      "object_fit": null,
      "object_position": null,
      "order": null,
      "overflow": null,
      "overflow_x": null,
      "overflow_y": null,
      "padding": null,
      "right": null,
      "top": null,
      "visibility": null,
      "width": null
     }
    },
    "d00b07fae28e45c9ab53e5f5e5d8cfc3": {
     "model_module": "@jupyter-widgets/controls",
     "model_module_version": "1.5.0",
     "model_name": "DescriptionStyleModel",
     "state": {
      "_model_module": "@jupyter-widgets/controls",
      "_model_module_version": "1.5.0",
      "_model_name": "DescriptionStyleModel",
      "_view_count": null,
      "_view_module": "@jupyter-widgets/base",
      "_view_module_version": "1.2.0",
      "_view_name": "StyleView",
      "description_width": ""
     }
    },
    "d85a53bbc53f4c57ba7e1445d9e5e1dc": {
     "model_module": "@jupyter-widgets/controls",
     "model_module_version": "1.5.0",
     "model_name": "ProgressStyleModel",
     "state": {
      "_model_module": "@jupyter-widgets/controls",
      "_model_module_version": "1.5.0",
      "_model_name": "ProgressStyleModel",
      "_view_count": null,
      "_view_module": "@jupyter-widgets/base",
      "_view_module_version": "1.2.0",
      "_view_name": "StyleView",
      "bar_color": null,
      "description_width": ""
     }
    },
    "e012801f6edf490e8585bd432df2a31a": {
     "model_module": "@jupyter-widgets/controls",
     "model_module_version": "1.5.0",
     "model_name": "HTMLModel",
     "state": {
      "_dom_classes": [],
      "_model_module": "@jupyter-widgets/controls",
      "_model_module_version": "1.5.0",
      "_model_name": "HTMLModel",
      "_view_count": null,
      "_view_module": "@jupyter-widgets/controls",
      "_view_module_version": "1.5.0",
      "_view_name": "HTMLView",
      "description": "",
      "description_tooltip": null,
      "layout": "IPY_MODEL_84ee07f639264ad7aaad15932f42a61d",
      "placeholder": "​",
      "style": "IPY_MODEL_a0db97fd7fb74b11b296e88217165ed0",
      "value": " 0/10 [00:14&lt;?, ?it/s]"
     }
    },
    "e4076d79954941aca311f5d1f605c05a": {
     "model_module": "@jupyter-widgets/controls",
     "model_module_version": "1.5.0",
     "model_name": "HTMLModel",
     "state": {
      "_dom_classes": [],
      "_model_module": "@jupyter-widgets/controls",
      "_model_module_version": "1.5.0",
      "_model_name": "HTMLModel",
      "_view_count": null,
      "_view_module": "@jupyter-widgets/controls",
      "_view_module_version": "1.5.0",
      "_view_name": "HTMLView",
      "description": "",
      "description_tooltip": null,
      "layout": "IPY_MODEL_6a3d8aec82314231a648ba53f39cfd42",
      "placeholder": "​",
      "style": "IPY_MODEL_d00b07fae28e45c9ab53e5f5e5d8cfc3",
      "value": "100%"
     }
    },
    "fbbe9b5a0f7f434fa6e127cd6155f930": {
     "model_module": "@jupyter-widgets/base",
     "model_module_version": "1.2.0",
     "model_name": "LayoutModel",
     "state": {
      "_model_module": "@jupyter-widgets/base",
      "_model_module_version": "1.2.0",
      "_model_name": "LayoutModel",
      "_view_count": null,
      "_view_module": "@jupyter-widgets/base",
      "_view_module_version": "1.2.0",
      "_view_name": "LayoutView",
      "align_content": null,
      "align_items": null,
      "align_self": null,
      "border": null,
      "bottom": null,
      "display": null,
      "flex": null,
      "flex_flow": null,
      "grid_area": null,
      "grid_auto_columns": null,
      "grid_auto_flow": null,
      "grid_auto_rows": null,
      "grid_column": null,
      "grid_gap": null,
      "grid_row": null,
      "grid_template_areas": null,
      "grid_template_columns": null,
      "grid_template_rows": null,
      "height": null,
      "justify_content": null,
      "justify_items": null,
      "left": null,
      "margin": null,
      "max_height": null,
      "max_width": null,
      "min_height": null,
      "min_width": null,
      "object_fit": null,
      "object_position": null,
      "order": null,
      "overflow": null,
      "overflow_x": null,
      "overflow_y": null,
      "padding": null,
      "right": null,
      "top": null,
      "visibility": null,
      "width": null
     }
    },
    "fcd499ba024f4c9fa3f00ead9dd2adfa": {
     "model_module": "@jupyter-widgets/base",
     "model_module_version": "1.2.0",
     "model_name": "LayoutModel",
     "state": {
      "_model_module": "@jupyter-widgets/base",
      "_model_module_version": "1.2.0",
      "_model_name": "LayoutModel",
      "_view_count": null,
      "_view_module": "@jupyter-widgets/base",
      "_view_module_version": "1.2.0",
      "_view_name": "LayoutView",
      "align_content": null,
      "align_items": null,
      "align_self": null,
      "border": null,
      "bottom": null,
      "display": null,
      "flex": null,
      "flex_flow": null,
      "grid_area": null,
      "grid_auto_columns": null,
      "grid_auto_flow": null,
      "grid_auto_rows": null,
      "grid_column": null,
      "grid_gap": null,
      "grid_row": null,
      "grid_template_areas": null,
      "grid_template_columns": null,
      "grid_template_rows": null,
      "height": null,
      "justify_content": null,
      "justify_items": null,
      "left": null,
      "margin": null,
      "max_height": null,
      "max_width": null,
      "min_height": null,
      "min_width": null,
      "object_fit": null,
      "object_position": null,
      "order": null,
      "overflow": null,
      "overflow_x": null,
      "overflow_y": null,
      "padding": null,
      "right": null,
      "top": null,
      "visibility": null,
      "width": null
     }
    }
   }
  }
 },
 "nbformat": 4,
 "nbformat_minor": 5
}
